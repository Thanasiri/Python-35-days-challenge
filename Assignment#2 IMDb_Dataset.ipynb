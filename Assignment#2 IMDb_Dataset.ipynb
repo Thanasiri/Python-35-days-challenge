{
  "nbformat": 4,
  "nbformat_minor": 0,
  "metadata": {
    "kernelspec": {
      "display_name": "Python 3",
      "language": "python",
      "name": "python3"
    },
    "language_info": {
      "codemirror_mode": {
        "name": "ipython",
        "version": 3
      },
      "file_extension": ".py",
      "mimetype": "text/x-python",
      "name": "python",
      "nbconvert_exporter": "python",
      "pygments_lexer": "ipython3",
      "version": "3.7.4"
    },
    "colab": {
      "name": "โจทย์ IMDb .ipynb",
      "provenance": [],
      "collapsed_sections": [],
      "include_colab_link": true
    }
  },
  "cells": [
    {
      "cell_type": "markdown",
      "metadata": {
        "id": "view-in-github",
        "colab_type": "text"
      },
      "source": [
        "<a href=\"https://colab.research.google.com/github/Thanasiri/Python-35-days-challenge/blob/master/Assignment%232%20IMDb_Dataset.ipynb\" target=\"_parent\"><img src=\"https://colab.research.google.com/assets/colab-badge.svg\" alt=\"Open In Colab\"/></a>"
      ]
    },
    {
      "cell_type": "markdown",
      "metadata": {
        "id": "z0INfx0o64RB",
        "colab_type": "text"
      },
      "source": [
        "# IMDb\n",
        "\n",
        "https://bit.ly/2TXtBhc\n",
        "\n",
        "เว็บ IMDb รวบรวมข้อมูลเกี่ยวกับภาพยนตร์ต่างๆ และตัดข้อมูลบางส่วนมาให้ใช้ทำการทดลองต่างๆ ได้ https://www.imdb.com/interfaces/\n",
        "\n",
        "โจทย์นี้คัดกรอง [ข้อมูลบางส่วนใน IMDb](https://drive.google.com/file/d/1V5VNg1WTMTS_eEOQqylektM9ZwdG1uq2/view?usp=sharing) มา โดยโดยมีไฟล์นี้อยู่\n",
        "\n",
        "**filteredCast.tsv**\n",
        "- tconst (string) - alphanumeric unique identifier of the title #idของtitle\n",
        "- ordering (integer) – a number to uniquely identify rows for a given titleId\n",
        "- nconst (string) - alphanumeric unique identifier of the name/person #idของบุคคลนั้นๆ\n",
        "- category (string) - the category of job that person was in\n",
        "- job (string) - the specific job title if applicable, else '\\N'\n",
        "- characters (string) - the name of the character played if applicable, else '\\N' #บทบาทของบุคคลกรณีเป้นดารา\n",
        "\n",
        "**filteredTitle.tsv**\n",
        "- tconst (string) - alphanumeric unique identifier of the title\n",
        "- titleType (string) – the type/format of the title (e.g. movie, short, tvseries, tvepisode, video, etc)\n",
        "- primaryTitle (string) – the more popular title / the title used by the filmmakers on promotional materials at the point of release\n",
        "- originalTitle (string) - original title, in the original language\n",
        "- isAdult (boolean) - 0: non-adult title; 1: adult title\n",
        "- startYear (YYYY) – represents the release year of a title. In the case of TV Series, it is the series start year\n",
        "- endYear (YYYY) – TV Series end year. ‘\\N’ for all other title types\n",
        "- runtimeMinutes – primary runtime of the title, in minutes\n",
        "- genres (string array) – includes up to three genres associated with the title\n",
        "\n",
        "**filteredStar.tsv**\n",
        "- nconst (string) - alphanumeric unique identifier of the name/person\n",
        "- primaryName (string)– name by which the person is most often credited\n",
        "- birthYear – in YYYY format\n",
        "- deathYear – in YYYY format if applicable, else '\\N'\n",
        "- primaryProfession (array of strings)– the top-3 professions of the person\n",
        "- knownForTitles (array of tconsts) – titles the person is known for"
      ]
    },
    {
      "cell_type": "markdown",
      "metadata": {
        "id": "Ty9jz8wK64RG",
        "colab_type": "text"
      },
      "source": [
        "# โจทย์\n",
        "\n",
        "1. มีภาพยนตร์กี่ประเภท (genres) แต่ละประเภทมีอย่างละกี่เรื่อง พร้อมพล็อตกราฟ\n",
        "2. มีนักแสดงชายและหญิงอย่างละกี่คน(นับจากไฟล์ filteredStar)\n",
        "3. นักแสดงที่ยังมีชีวิตมีอายุเท่าไหร่บ้าง แต่ละช่วงมีกี่คน\n",
        "4. มีนักแสดงกี่คนที่เคยแสดงในภาพยนตร์ Action\n",
        "5. มีนักแสดงกี่คนที่แสดงในภาพยนตร์มากกว่า 1 ประเภท\n",
        "6. มีภาพยนตร์ทั้งหมดกี่เรื่องที่เข้าฉายในปีอธิกสุรทิน\n",
        "7. มีผู้กำกับกี่คนที่เป็นนักแสดงด้วย\n",
        "8. หาจำนวนภาพยนต์แนวรอมคอมในแต่ละปี พร้อมพล็อตกราฟ(นับเฉพาะปีที่มีตั้งแต่ 1 เรื่องขึ้นไป)\n"
      ]
    },
    {
      "cell_type": "markdown",
      "metadata": {
        "id": "OdR8yexJGztv",
        "colab_type": "text"
      },
      "source": [
        "# 1. มีภาพยนตร์กี่ประเภท (genres) แต่ละประเภทมีอย่างละกี่เรื่อง พร้อมพล็อตกราฟ"
      ]
    },
    {
      "cell_type": "code",
      "metadata": {
        "id": "6JSDZ6pIA3o4",
        "colab_type": "code",
        "colab": {
          "base_uri": "https://localhost:8080/",
          "height": 67
        },
        "outputId": "65788bd1-277b-4649-87c7-f70a76965f1b"
      },
      "source": [
        "#solution\n",
        "import pandas as pd\n",
        "from pandas import Series, DataFrame\n",
        "cast = pd.read_csv(\"filteredCast-v2.tsv\", sep='\\t')\n",
        "star = pd.read_csv(\"filteredStar-v2.tsv\", sep='\\t')\n",
        "title = pd.read_csv(\"filteredTitle-v2.tsv\", sep='\\t')\n",
        "title.columns"
      ],
      "execution_count": null,
      "outputs": [
        {
          "output_type": "execute_result",
          "data": {
            "text/plain": [
              "Index(['tconst', 'titleType', 'primaryTitle', 'originalTitle', 'isAdult',\n",
              "       'startYear', 'endYear', 'runtimeMinutes', 'genres'],\n",
              "      dtype='object')"
            ]
          },
          "metadata": {
            "tags": []
          },
          "execution_count": 17
        }
      ]
    },
    {
      "cell_type": "code",
      "metadata": {
        "id": "NnL3R7R1A_CZ",
        "colab_type": "code",
        "colab": {}
      },
      "source": [
        "title"
      ],
      "execution_count": null,
      "outputs": []
    },
    {
      "cell_type": "code",
      "metadata": {
        "id": "lBC6h28LAtCv",
        "colab_type": "code",
        "colab": {
          "base_uri": "https://localhost:8080/",
          "height": 195
        },
        "outputId": "c48ee1ef-ce4e-4e7e-b688-a9a39b355100"
      },
      "source": [
        "tt = title[['genres','primaryTitle']]\n",
        "tt.head()"
      ],
      "execution_count": null,
      "outputs": [
        {
          "output_type": "execute_result",
          "data": {
            "text/html": [
              "<div>\n",
              "<style scoped>\n",
              "    .dataframe tbody tr th:only-of-type {\n",
              "        vertical-align: middle;\n",
              "    }\n",
              "\n",
              "    .dataframe tbody tr th {\n",
              "        vertical-align: top;\n",
              "    }\n",
              "\n",
              "    .dataframe thead th {\n",
              "        text-align: right;\n",
              "    }\n",
              "</style>\n",
              "<table border=\"1\" class=\"dataframe\">\n",
              "  <thead>\n",
              "    <tr style=\"text-align: right;\">\n",
              "      <th></th>\n",
              "      <th>genres</th>\n",
              "      <th>primaryTitle</th>\n",
              "    </tr>\n",
              "  </thead>\n",
              "  <tbody>\n",
              "    <tr>\n",
              "      <th>0</th>\n",
              "      <td>Comedy,Musical</td>\n",
              "      <td>While Supplies Last</td>\n",
              "    </tr>\n",
              "    <tr>\n",
              "      <th>1</th>\n",
              "      <td>Adventure,Drama,Music</td>\n",
              "      <td>Electric Heart</td>\n",
              "    </tr>\n",
              "    <tr>\n",
              "      <th>2</th>\n",
              "      <td>Drama</td>\n",
              "      <td>Rain Doll</td>\n",
              "    </tr>\n",
              "    <tr>\n",
              "      <th>3</th>\n",
              "      <td>Drama</td>\n",
              "      <td>The Blessed Ones</td>\n",
              "    </tr>\n",
              "    <tr>\n",
              "      <th>4</th>\n",
              "      <td>Action,Comedy</td>\n",
              "      <td>Golmaal 3</td>\n",
              "    </tr>\n",
              "  </tbody>\n",
              "</table>\n",
              "</div>"
            ],
            "text/plain": [
              "                  genres         primaryTitle\n",
              "0         Comedy,Musical  While Supplies Last\n",
              "1  Adventure,Drama,Music       Electric Heart\n",
              "2                  Drama            Rain Doll\n",
              "3                  Drama     The Blessed Ones\n",
              "4          Action,Comedy            Golmaal 3"
            ]
          },
          "metadata": {
            "tags": []
          },
          "execution_count": 19
        }
      ]
    },
    {
      "cell_type": "code",
      "metadata": {
        "id": "Psu2jGEcBkDj",
        "colab_type": "code",
        "colab": {}
      },
      "source": [
        "s = tt['genres'].str.split(',').apply(Series, 1).stack()\n",
        "s.index = s.index.droplevel(-1)\n",
        "s.name = 'genres'\n",
        "del tt['genres']\n",
        "df = tt.join(s)"
      ],
      "execution_count": null,
      "outputs": []
    },
    {
      "cell_type": "code",
      "metadata": {
        "id": "be7M1kTiCkOe",
        "colab_type": "code",
        "colab": {
          "base_uri": "https://localhost:8080/",
          "height": 402
        },
        "outputId": "5035a97f-2462-4ae4-ca4f-015073573cfd"
      },
      "source": [
        "df"
      ],
      "execution_count": null,
      "outputs": [
        {
          "output_type": "execute_result",
          "data": {
            "text/html": [
              "<div>\n",
              "<style scoped>\n",
              "    .dataframe tbody tr th:only-of-type {\n",
              "        vertical-align: middle;\n",
              "    }\n",
              "\n",
              "    .dataframe tbody tr th {\n",
              "        vertical-align: top;\n",
              "    }\n",
              "\n",
              "    .dataframe thead th {\n",
              "        text-align: right;\n",
              "    }\n",
              "</style>\n",
              "<table border=\"1\" class=\"dataframe\">\n",
              "  <thead>\n",
              "    <tr style=\"text-align: right;\">\n",
              "      <th></th>\n",
              "      <th>primaryTitle</th>\n",
              "      <th>genres</th>\n",
              "    </tr>\n",
              "  </thead>\n",
              "  <tbody>\n",
              "    <tr>\n",
              "      <th>0</th>\n",
              "      <td>While Supplies Last</td>\n",
              "      <td>Comedy</td>\n",
              "    </tr>\n",
              "    <tr>\n",
              "      <th>0</th>\n",
              "      <td>While Supplies Last</td>\n",
              "      <td>Musical</td>\n",
              "    </tr>\n",
              "    <tr>\n",
              "      <th>1</th>\n",
              "      <td>Electric Heart</td>\n",
              "      <td>Adventure</td>\n",
              "    </tr>\n",
              "    <tr>\n",
              "      <th>1</th>\n",
              "      <td>Electric Heart</td>\n",
              "      <td>Drama</td>\n",
              "    </tr>\n",
              "    <tr>\n",
              "      <th>1</th>\n",
              "      <td>Electric Heart</td>\n",
              "      <td>Music</td>\n",
              "    </tr>\n",
              "    <tr>\n",
              "      <th>...</th>\n",
              "      <td>...</td>\n",
              "      <td>...</td>\n",
              "    </tr>\n",
              "    <tr>\n",
              "      <th>6290</th>\n",
              "      <td>Vashti Bunyan: From Here to Before</td>\n",
              "      <td>Documentary</td>\n",
              "    </tr>\n",
              "    <tr>\n",
              "      <th>6291</th>\n",
              "      <td>Casa d'appuntamento... puttana dalla testa ai ...</td>\n",
              "      <td>Adult</td>\n",
              "    </tr>\n",
              "    <tr>\n",
              "      <th>6292</th>\n",
              "      <td>7 Deadly Sins: Inside the Ecomm Cult</td>\n",
              "      <td>Biography</td>\n",
              "    </tr>\n",
              "    <tr>\n",
              "      <th>6292</th>\n",
              "      <td>7 Deadly Sins: Inside the Ecomm Cult</td>\n",
              "      <td>Comedy</td>\n",
              "    </tr>\n",
              "    <tr>\n",
              "      <th>6292</th>\n",
              "      <td>7 Deadly Sins: Inside the Ecomm Cult</td>\n",
              "      <td>Crime</td>\n",
              "    </tr>\n",
              "  </tbody>\n",
              "</table>\n",
              "<p>10894 rows × 2 columns</p>\n",
              "</div>"
            ],
            "text/plain": [
              "                                           primaryTitle       genres\n",
              "0                                   While Supplies Last       Comedy\n",
              "0                                   While Supplies Last      Musical\n",
              "1                                        Electric Heart    Adventure\n",
              "1                                        Electric Heart        Drama\n",
              "1                                        Electric Heart        Music\n",
              "...                                                 ...          ...\n",
              "6290                 Vashti Bunyan: From Here to Before  Documentary\n",
              "6291  Casa d'appuntamento... puttana dalla testa ai ...        Adult\n",
              "6292               7 Deadly Sins: Inside the Ecomm Cult    Biography\n",
              "6292               7 Deadly Sins: Inside the Ecomm Cult       Comedy\n",
              "6292               7 Deadly Sins: Inside the Ecomm Cult        Crime\n",
              "\n",
              "[10894 rows x 2 columns]"
            ]
          },
          "metadata": {
            "tags": []
          },
          "execution_count": 21
        }
      ]
    },
    {
      "cell_type": "code",
      "metadata": {
        "id": "MdATuA8cC8Yi",
        "colab_type": "code",
        "colab": {
          "base_uri": "https://localhost:8080/",
          "height": 34
        },
        "outputId": "c3bbbd25-3146-4b5c-deaa-ab01c2b86270"
      },
      "source": [
        "df['genres'].unique()\n",
        "print('ภาพยนต์มีทั้งหมด ', len(df['genres'].unique()),' ประเภท')"
      ],
      "execution_count": null,
      "outputs": [
        {
          "output_type": "stream",
          "text": [
            "ภาพยนต์มีทั้งหมด  25  ประเภท\n"
          ],
          "name": "stdout"
        }
      ]
    },
    {
      "cell_type": "code",
      "metadata": {
        "id": "_g8i4YRgCqqD",
        "colab_type": "code",
        "colab": {
          "base_uri": "https://localhost:8080/",
          "height": 817
        },
        "outputId": "41694c47-d9b2-4e12-a0c0-9f8b6d9aab8c"
      },
      "source": [
        "by_genres = df.groupby(['genres']).count()\n",
        "by_genres"
      ],
      "execution_count": null,
      "outputs": [
        {
          "output_type": "execute_result",
          "data": {
            "text/html": [
              "<div>\n",
              "<style scoped>\n",
              "    .dataframe tbody tr th:only-of-type {\n",
              "        vertical-align: middle;\n",
              "    }\n",
              "\n",
              "    .dataframe tbody tr th {\n",
              "        vertical-align: top;\n",
              "    }\n",
              "\n",
              "    .dataframe thead th {\n",
              "        text-align: right;\n",
              "    }\n",
              "</style>\n",
              "<table border=\"1\" class=\"dataframe\">\n",
              "  <thead>\n",
              "    <tr style=\"text-align: right;\">\n",
              "      <th></th>\n",
              "      <th>primaryTitle</th>\n",
              "    </tr>\n",
              "    <tr>\n",
              "      <th>genres</th>\n",
              "      <th></th>\n",
              "    </tr>\n",
              "  </thead>\n",
              "  <tbody>\n",
              "    <tr>\n",
              "      <th>Action</th>\n",
              "      <td>733</td>\n",
              "    </tr>\n",
              "    <tr>\n",
              "      <th>Adult</th>\n",
              "      <td>56</td>\n",
              "    </tr>\n",
              "    <tr>\n",
              "      <th>Adventure</th>\n",
              "      <td>277</td>\n",
              "    </tr>\n",
              "    <tr>\n",
              "      <th>Animation</th>\n",
              "      <td>132</td>\n",
              "    </tr>\n",
              "    <tr>\n",
              "      <th>Biography</th>\n",
              "      <td>178</td>\n",
              "    </tr>\n",
              "    <tr>\n",
              "      <th>Comedy</th>\n",
              "      <td>1694</td>\n",
              "    </tr>\n",
              "    <tr>\n",
              "      <th>Crime</th>\n",
              "      <td>488</td>\n",
              "    </tr>\n",
              "    <tr>\n",
              "      <th>Documentary</th>\n",
              "      <td>484</td>\n",
              "    </tr>\n",
              "    <tr>\n",
              "      <th>Drama</th>\n",
              "      <td>3041</td>\n",
              "    </tr>\n",
              "    <tr>\n",
              "      <th>Family</th>\n",
              "      <td>247</td>\n",
              "    </tr>\n",
              "    <tr>\n",
              "      <th>Fantasy</th>\n",
              "      <td>218</td>\n",
              "    </tr>\n",
              "    <tr>\n",
              "      <th>History</th>\n",
              "      <td>120</td>\n",
              "    </tr>\n",
              "    <tr>\n",
              "      <th>Horror</th>\n",
              "      <td>559</td>\n",
              "    </tr>\n",
              "    <tr>\n",
              "      <th>Music</th>\n",
              "      <td>128</td>\n",
              "    </tr>\n",
              "    <tr>\n",
              "      <th>Musical</th>\n",
              "      <td>74</td>\n",
              "    </tr>\n",
              "    <tr>\n",
              "      <th>Mystery</th>\n",
              "      <td>268</td>\n",
              "    </tr>\n",
              "    <tr>\n",
              "      <th>News</th>\n",
              "      <td>7</td>\n",
              "    </tr>\n",
              "    <tr>\n",
              "      <th>Reality-TV</th>\n",
              "      <td>3</td>\n",
              "    </tr>\n",
              "    <tr>\n",
              "      <th>Romance</th>\n",
              "      <td>825</td>\n",
              "    </tr>\n",
              "    <tr>\n",
              "      <th>Sci-Fi</th>\n",
              "      <td>181</td>\n",
              "    </tr>\n",
              "    <tr>\n",
              "      <th>Sport</th>\n",
              "      <td>80</td>\n",
              "    </tr>\n",
              "    <tr>\n",
              "      <th>Thriller</th>\n",
              "      <td>726</td>\n",
              "    </tr>\n",
              "    <tr>\n",
              "      <th>War</th>\n",
              "      <td>83</td>\n",
              "    </tr>\n",
              "    <tr>\n",
              "      <th>Western</th>\n",
              "      <td>22</td>\n",
              "    </tr>\n",
              "    <tr>\n",
              "      <th>\\N</th>\n",
              "      <td>270</td>\n",
              "    </tr>\n",
              "  </tbody>\n",
              "</table>\n",
              "</div>"
            ],
            "text/plain": [
              "             primaryTitle\n",
              "genres                   \n",
              "Action                733\n",
              "Adult                  56\n",
              "Adventure             277\n",
              "Animation             132\n",
              "Biography             178\n",
              "Comedy               1694\n",
              "Crime                 488\n",
              "Documentary           484\n",
              "Drama                3041\n",
              "Family                247\n",
              "Fantasy               218\n",
              "History               120\n",
              "Horror                559\n",
              "Music                 128\n",
              "Musical                74\n",
              "Mystery               268\n",
              "News                    7\n",
              "Reality-TV              3\n",
              "Romance               825\n",
              "Sci-Fi                181\n",
              "Sport                  80\n",
              "Thriller              726\n",
              "War                    83\n",
              "Western                22\n",
              "\\N                    270"
            ]
          },
          "metadata": {
            "tags": []
          },
          "execution_count": 36
        }
      ]
    },
    {
      "cell_type": "code",
      "metadata": {
        "id": "rc1yrOYyEfKw",
        "colab_type": "code",
        "colab": {
          "base_uri": "https://localhost:8080/",
          "height": 609
        },
        "outputId": "d6308771-2ee2-4ea8-96f0-b9fba420c705"
      },
      "source": [
        "by_genres.plot.barh(figsize=(10,10))"
      ],
      "execution_count": null,
      "outputs": [
        {
          "output_type": "execute_result",
          "data": {
            "text/plain": [
              "<matplotlib.axes._subplots.AxesSubplot at 0x7fa629be79b0>"
            ]
          },
          "metadata": {
            "tags": []
          },
          "execution_count": 40
        },
        {
          "output_type": "display_data",
          "data": {
            "image/png": "[encoded data removed]",
            "text/plain": [
              "<Figure size 720x720 with 1 Axes>"
            ]
          },
          "metadata": {
            "tags": [],
            "needs_background": "light"
          }
        }
      ]
    },
    {
      "cell_type": "markdown",
      "metadata": {
        "id": "DawKBj6AQJR9",
        "colab_type": "text"
      },
      "source": [
        "# 2. มีนักแสดงชายและหญิงอย่างละกี่คน(นับจากไฟล์ filteredStar)"
      ]
    },
    {
      "cell_type": "code",
      "metadata": {
        "id": "mUemvFPEA7it",
        "colab_type": "code",
        "colab": {
          "base_uri": "https://localhost:8080/",
          "height": 402
        },
        "outputId": "b7a46047-6c2d-4af8-8f0c-5623873364aa"
      },
      "source": [
        "#solution\n",
        "star"
      ],
      "execution_count": null,
      "outputs": [
        {
          "output_type": "execute_result",
          "data": {
            "text/html": [
              "<div>\n",
              "<style scoped>\n",
              "    .dataframe tbody tr th:only-of-type {\n",
              "        vertical-align: middle;\n",
              "    }\n",
              "\n",
              "    .dataframe tbody tr th {\n",
              "        vertical-align: top;\n",
              "    }\n",
              "\n",
              "    .dataframe thead th {\n",
              "        text-align: right;\n",
              "    }\n",
              "</style>\n",
              "<table border=\"1\" class=\"dataframe\">\n",
              "  <thead>\n",
              "    <tr style=\"text-align: right;\">\n",
              "      <th></th>\n",
              "      <th>nconst</th>\n",
              "      <th>primaryName</th>\n",
              "      <th>birthYear</th>\n",
              "      <th>deathYear</th>\n",
              "      <th>primaryProfession</th>\n",
              "      <th>knownForTitles</th>\n",
              "    </tr>\n",
              "  </thead>\n",
              "  <tbody>\n",
              "    <tr>\n",
              "      <th>0</th>\n",
              "      <td>nm0000103</td>\n",
              "      <td>Fairuza Balk</td>\n",
              "      <td>1974</td>\n",
              "      <td>\\N</td>\n",
              "      <td>actress,soundtrack</td>\n",
              "      <td>tt0181875,tt0089908,tt0120586,tt0115963</td>\n",
              "    </tr>\n",
              "    <tr>\n",
              "      <th>1</th>\n",
              "      <td>nm0000106</td>\n",
              "      <td>Drew Barrymore</td>\n",
              "      <td>1975</td>\n",
              "      <td>\\N</td>\n",
              "      <td>producer,actress,soundtrack</td>\n",
              "      <td>tt0120888,tt0343660,tt0151738,tt0120631</td>\n",
              "    </tr>\n",
              "    <tr>\n",
              "      <th>2</th>\n",
              "      <td>nm0000117</td>\n",
              "      <td>Neve Campbell</td>\n",
              "      <td>1973</td>\n",
              "      <td>\\N</td>\n",
              "      <td>actress,producer,soundtrack</td>\n",
              "      <td>tt0134084,tt1262416,tt0120082,tt0117571</td>\n",
              "    </tr>\n",
              "    <tr>\n",
              "      <th>3</th>\n",
              "      <td>nm0000132</td>\n",
              "      <td>Claire Danes</td>\n",
              "      <td>1979</td>\n",
              "      <td>\\N</td>\n",
              "      <td>actress,producer,soundtrack</td>\n",
              "      <td>tt0274558,tt0108872,tt1796960,tt0117509</td>\n",
              "    </tr>\n",
              "    <tr>\n",
              "      <th>4</th>\n",
              "      <td>nm0000138</td>\n",
              "      <td>Leonardo DiCaprio</td>\n",
              "      <td>1974</td>\n",
              "      <td>\\N</td>\n",
              "      <td>actor,producer,writer</td>\n",
              "      <td>tt0120338,tt0993846,tt1375666,tt0407887</td>\n",
              "    </tr>\n",
              "    <tr>\n",
              "      <th>...</th>\n",
              "      <td>...</td>\n",
              "      <td>...</td>\n",
              "      <td>...</td>\n",
              "      <td>...</td>\n",
              "      <td>...</td>\n",
              "      <td>...</td>\n",
              "    </tr>\n",
              "    <tr>\n",
              "      <th>7832</th>\n",
              "      <td>nm9561903</td>\n",
              "      <td>Amir Mohammad Zand</td>\n",
              "      <td>1978</td>\n",
              "      <td>\\N</td>\n",
              "      <td>actor,director,writer</td>\n",
              "      <td>tt7900836,tt4532764,tt6851202,tt7902726</td>\n",
              "    </tr>\n",
              "    <tr>\n",
              "      <th>7833</th>\n",
              "      <td>nm9824219</td>\n",
              "      <td>Justin Duffy</td>\n",
              "      <td>1982</td>\n",
              "      <td>\\N</td>\n",
              "      <td>art_department,actor,producer</td>\n",
              "      <td>tt8590300,tt8713534,tt8907070,tt8386612</td>\n",
              "    </tr>\n",
              "    <tr>\n",
              "      <th>7834</th>\n",
              "      <td>nm9886120</td>\n",
              "      <td>Vigithan Sokka</td>\n",
              "      <td>1982</td>\n",
              "      <td>\\N</td>\n",
              "      <td>director,actor</td>\n",
              "      <td>tt8486890</td>\n",
              "    </tr>\n",
              "    <tr>\n",
              "      <th>7835</th>\n",
              "      <td>nm9979083</td>\n",
              "      <td>Jeff Rambo</td>\n",
              "      <td>1975</td>\n",
              "      <td>\\N</td>\n",
              "      <td>actor</td>\n",
              "      <td>tt10223168,tt8712572</td>\n",
              "    </tr>\n",
              "    <tr>\n",
              "      <th>7836</th>\n",
              "      <td>nm9993379</td>\n",
              "      <td>Fanny Hozleiter</td>\n",
              "      <td>1988</td>\n",
              "      <td>\\N</td>\n",
              "      <td>director,actress,writer</td>\n",
              "      <td>tt8743182</td>\n",
              "    </tr>\n",
              "  </tbody>\n",
              "</table>\n",
              "<p>7837 rows × 6 columns</p>\n",
              "</div>"
            ],
            "text/plain": [
              "         nconst  ...                           knownForTitles\n",
              "0     nm0000103  ...  tt0181875,tt0089908,tt0120586,tt0115963\n",
              "1     nm0000106  ...  tt0120888,tt0343660,tt0151738,tt0120631\n",
              "2     nm0000117  ...  tt0134084,tt1262416,tt0120082,tt0117571\n",
              "3     nm0000132  ...  tt0274558,tt0108872,tt1796960,tt0117509\n",
              "4     nm0000138  ...  tt0120338,tt0993846,tt1375666,tt0407887\n",
              "...         ...  ...                                      ...\n",
              "7832  nm9561903  ...  tt7900836,tt4532764,tt6851202,tt7902726\n",
              "7833  nm9824219  ...  tt8590300,tt8713534,tt8907070,tt8386612\n",
              "7834  nm9886120  ...                                tt8486890\n",
              "7835  nm9979083  ...                     tt10223168,tt8712572\n",
              "7836  nm9993379  ...                                tt8743182\n",
              "\n",
              "[7837 rows x 6 columns]"
            ]
          },
          "metadata": {
            "tags": []
          },
          "execution_count": 41
        }
      ]
    },
    {
      "cell_type": "code",
      "metadata": {
        "id": "X91TN-BPFw6O",
        "colab_type": "code",
        "colab": {
          "base_uri": "https://localhost:8080/",
          "height": 195
        },
        "outputId": "0851411e-56a5-4fdb-c67b-133a923cfafb"
      },
      "source": [
        "st = star[['primaryProfession','primaryName']]\n",
        "st.head()"
      ],
      "execution_count": null,
      "outputs": [
        {
          "output_type": "execute_result",
          "data": {
            "text/html": [
              "<div>\n",
              "<style scoped>\n",
              "    .dataframe tbody tr th:only-of-type {\n",
              "        vertical-align: middle;\n",
              "    }\n",
              "\n",
              "    .dataframe tbody tr th {\n",
              "        vertical-align: top;\n",
              "    }\n",
              "\n",
              "    .dataframe thead th {\n",
              "        text-align: right;\n",
              "    }\n",
              "</style>\n",
              "<table border=\"1\" class=\"dataframe\">\n",
              "  <thead>\n",
              "    <tr style=\"text-align: right;\">\n",
              "      <th></th>\n",
              "      <th>primaryProfession</th>\n",
              "      <th>primaryName</th>\n",
              "    </tr>\n",
              "  </thead>\n",
              "  <tbody>\n",
              "    <tr>\n",
              "      <th>0</th>\n",
              "      <td>actress,soundtrack</td>\n",
              "      <td>Fairuza Balk</td>\n",
              "    </tr>\n",
              "    <tr>\n",
              "      <th>1</th>\n",
              "      <td>producer,actress,soundtrack</td>\n",
              "      <td>Drew Barrymore</td>\n",
              "    </tr>\n",
              "    <tr>\n",
              "      <th>2</th>\n",
              "      <td>actress,producer,soundtrack</td>\n",
              "      <td>Neve Campbell</td>\n",
              "    </tr>\n",
              "    <tr>\n",
              "      <th>3</th>\n",
              "      <td>actress,producer,soundtrack</td>\n",
              "      <td>Claire Danes</td>\n",
              "    </tr>\n",
              "    <tr>\n",
              "      <th>4</th>\n",
              "      <td>actor,producer,writer</td>\n",
              "      <td>Leonardo DiCaprio</td>\n",
              "    </tr>\n",
              "  </tbody>\n",
              "</table>\n",
              "</div>"
            ],
            "text/plain": [
              "             primaryProfession        primaryName\n",
              "0           actress,soundtrack       Fairuza Balk\n",
              "1  producer,actress,soundtrack     Drew Barrymore\n",
              "2  actress,producer,soundtrack      Neve Campbell\n",
              "3  actress,producer,soundtrack       Claire Danes\n",
              "4        actor,producer,writer  Leonardo DiCaprio"
            ]
          },
          "metadata": {
            "tags": []
          },
          "execution_count": 42
        }
      ]
    },
    {
      "cell_type": "code",
      "metadata": {
        "id": "3A1Y9OzSGGPw",
        "colab_type": "code",
        "colab": {}
      },
      "source": [
        "x = st['primaryProfession'].str.split(',').apply(Series, 1).stack()\n",
        "x.index = x.index.droplevel(-1)\n",
        "x.name = 'primaryProfession'\n",
        "del st['primaryProfession']"
      ],
      "execution_count": null,
      "outputs": []
    },
    {
      "cell_type": "code",
      "metadata": {
        "id": "gy3FN2TBHAXl",
        "colab_type": "code",
        "colab": {
          "base_uri": "https://localhost:8080/",
          "height": 402
        },
        "outputId": "6c46694d-c87d-4d05-ff8c-9285b9f1f644"
      },
      "source": [
        "ds = st.join(x)\n",
        "ds "
      ],
      "execution_count": null,
      "outputs": [
        {
          "output_type": "execute_result",
          "data": {
            "text/html": [
              "<div>\n",
              "<style scoped>\n",
              "    .dataframe tbody tr th:only-of-type {\n",
              "        vertical-align: middle;\n",
              "    }\n",
              "\n",
              "    .dataframe tbody tr th {\n",
              "        vertical-align: top;\n",
              "    }\n",
              "\n",
              "    .dataframe thead th {\n",
              "        text-align: right;\n",
              "    }\n",
              "</style>\n",
              "<table border=\"1\" class=\"dataframe\">\n",
              "  <thead>\n",
              "    <tr style=\"text-align: right;\">\n",
              "      <th></th>\n",
              "      <th>primaryName</th>\n",
              "      <th>primaryProfession</th>\n",
              "    </tr>\n",
              "  </thead>\n",
              "  <tbody>\n",
              "    <tr>\n",
              "      <th>0</th>\n",
              "      <td>Fairuza Balk</td>\n",
              "      <td>actress</td>\n",
              "    </tr>\n",
              "    <tr>\n",
              "      <th>0</th>\n",
              "      <td>Fairuza Balk</td>\n",
              "      <td>soundtrack</td>\n",
              "    </tr>\n",
              "    <tr>\n",
              "      <th>1</th>\n",
              "      <td>Drew Barrymore</td>\n",
              "      <td>producer</td>\n",
              "    </tr>\n",
              "    <tr>\n",
              "      <th>1</th>\n",
              "      <td>Drew Barrymore</td>\n",
              "      <td>actress</td>\n",
              "    </tr>\n",
              "    <tr>\n",
              "      <th>1</th>\n",
              "      <td>Drew Barrymore</td>\n",
              "      <td>soundtrack</td>\n",
              "    </tr>\n",
              "    <tr>\n",
              "      <th>...</th>\n",
              "      <td>...</td>\n",
              "      <td>...</td>\n",
              "    </tr>\n",
              "    <tr>\n",
              "      <th>7834</th>\n",
              "      <td>Vigithan Sokka</td>\n",
              "      <td>actor</td>\n",
              "    </tr>\n",
              "    <tr>\n",
              "      <th>7835</th>\n",
              "      <td>Jeff Rambo</td>\n",
              "      <td>actor</td>\n",
              "    </tr>\n",
              "    <tr>\n",
              "      <th>7836</th>\n",
              "      <td>Fanny Hozleiter</td>\n",
              "      <td>director</td>\n",
              "    </tr>\n",
              "    <tr>\n",
              "      <th>7836</th>\n",
              "      <td>Fanny Hozleiter</td>\n",
              "      <td>actress</td>\n",
              "    </tr>\n",
              "    <tr>\n",
              "      <th>7836</th>\n",
              "      <td>Fanny Hozleiter</td>\n",
              "      <td>writer</td>\n",
              "    </tr>\n",
              "  </tbody>\n",
              "</table>\n",
              "<p>16279 rows × 2 columns</p>\n",
              "</div>"
            ],
            "text/plain": [
              "          primaryName primaryProfession\n",
              "0        Fairuza Balk           actress\n",
              "0        Fairuza Balk        soundtrack\n",
              "1      Drew Barrymore          producer\n",
              "1      Drew Barrymore           actress\n",
              "1      Drew Barrymore        soundtrack\n",
              "...               ...               ...\n",
              "7834   Vigithan Sokka             actor\n",
              "7835       Jeff Rambo             actor\n",
              "7836  Fanny Hozleiter          director\n",
              "7836  Fanny Hozleiter           actress\n",
              "7836  Fanny Hozleiter            writer\n",
              "\n",
              "[16279 rows x 2 columns]"
            ]
          },
          "metadata": {
            "tags": []
          },
          "execution_count": 50
        }
      ]
    },
    {
      "cell_type": "code",
      "metadata": {
        "id": "k0aGtKoEHMUX",
        "colab_type": "code",
        "colab": {
          "base_uri": "https://localhost:8080/",
          "height": 136
        },
        "outputId": "a32a97e8-8a17-49f4-8108-f5ee994b8f72"
      },
      "source": [
        "by_pro = ds.groupby(['primaryProfession']).count()\n",
        "by_pro.head(2)"
      ],
      "execution_count": null,
      "outputs": [
        {
          "output_type": "execute_result",
          "data": {
            "text/html": [
              "<div>\n",
              "<style scoped>\n",
              "    .dataframe tbody tr th:only-of-type {\n",
              "        vertical-align: middle;\n",
              "    }\n",
              "\n",
              "    .dataframe tbody tr th {\n",
              "        vertical-align: top;\n",
              "    }\n",
              "\n",
              "    .dataframe thead th {\n",
              "        text-align: right;\n",
              "    }\n",
              "</style>\n",
              "<table border=\"1\" class=\"dataframe\">\n",
              "  <thead>\n",
              "    <tr style=\"text-align: right;\">\n",
              "      <th></th>\n",
              "      <th>primaryName</th>\n",
              "    </tr>\n",
              "    <tr>\n",
              "      <th>primaryProfession</th>\n",
              "      <th></th>\n",
              "    </tr>\n",
              "  </thead>\n",
              "  <tbody>\n",
              "    <tr>\n",
              "      <th>actor</th>\n",
              "      <td>4300</td>\n",
              "    </tr>\n",
              "    <tr>\n",
              "      <th>actress</th>\n",
              "      <td>3537</td>\n",
              "    </tr>\n",
              "  </tbody>\n",
              "</table>\n",
              "</div>"
            ],
            "text/plain": [
              "                   primaryName\n",
              "primaryProfession             \n",
              "actor                     4300\n",
              "actress                   3537"
            ]
          },
          "metadata": {
            "tags": []
          },
          "execution_count": 57
        }
      ]
    },
    {
      "cell_type": "code",
      "metadata": {
        "id": "kvt0UVMcJJAG",
        "colab_type": "code",
        "colab": {
          "base_uri": "https://localhost:8080/",
          "height": 34
        },
        "outputId": "c0dcddae-41c7-447f-8ca9-9224521cbed7"
      },
      "source": [
        "print('มีนักแสดงชาย 4300 คน และนักแสดงหญิง 3537 คน')"
      ],
      "execution_count": null,
      "outputs": [
        {
          "output_type": "stream",
          "text": [
            "มีนักแสดงชาย 4300 คน และนักแสดงหญิง 3537 คน\n"
          ],
          "name": "stdout"
        }
      ]
    },
    {
      "cell_type": "markdown",
      "metadata": {
        "id": "DZfyXkpYQoFe",
        "colab_type": "text"
      },
      "source": [
        "# 3. นักแสดงที่ยังมีชีวิตมีอายุเท่าไหร่บ้าง แต่ละช่วงมีกี่คน"
      ]
    },
    {
      "cell_type": "code",
      "metadata": {
        "id": "APW7IFI5A8Kl",
        "colab_type": "code",
        "colab": {
          "base_uri": "https://localhost:8080/",
          "height": 195
        },
        "outputId": "c7297ed3-3f73-47ca-d484-c9d2523abc14"
      },
      "source": [
        "#solution\n",
        "star.head(5)"
      ],
      "execution_count": null,
      "outputs": [
        {
          "output_type": "execute_result",
          "data": {
            "text/html": [
              "<div>\n",
              "<style scoped>\n",
              "    .dataframe tbody tr th:only-of-type {\n",
              "        vertical-align: middle;\n",
              "    }\n",
              "\n",
              "    .dataframe tbody tr th {\n",
              "        vertical-align: top;\n",
              "    }\n",
              "\n",
              "    .dataframe thead th {\n",
              "        text-align: right;\n",
              "    }\n",
              "</style>\n",
              "<table border=\"1\" class=\"dataframe\">\n",
              "  <thead>\n",
              "    <tr style=\"text-align: right;\">\n",
              "      <th></th>\n",
              "      <th>nconst</th>\n",
              "      <th>primaryName</th>\n",
              "      <th>birthYear</th>\n",
              "      <th>deathYear</th>\n",
              "      <th>primaryProfession</th>\n",
              "      <th>knownForTitles</th>\n",
              "    </tr>\n",
              "  </thead>\n",
              "  <tbody>\n",
              "    <tr>\n",
              "      <th>0</th>\n",
              "      <td>nm0000103</td>\n",
              "      <td>Fairuza Balk</td>\n",
              "      <td>1974</td>\n",
              "      <td>\\N</td>\n",
              "      <td>actress,soundtrack</td>\n",
              "      <td>tt0181875,tt0089908,tt0120586,tt0115963</td>\n",
              "    </tr>\n",
              "    <tr>\n",
              "      <th>1</th>\n",
              "      <td>nm0000106</td>\n",
              "      <td>Drew Barrymore</td>\n",
              "      <td>1975</td>\n",
              "      <td>\\N</td>\n",
              "      <td>producer,actress,soundtrack</td>\n",
              "      <td>tt0120888,tt0343660,tt0151738,tt0120631</td>\n",
              "    </tr>\n",
              "    <tr>\n",
              "      <th>2</th>\n",
              "      <td>nm0000117</td>\n",
              "      <td>Neve Campbell</td>\n",
              "      <td>1973</td>\n",
              "      <td>\\N</td>\n",
              "      <td>actress,producer,soundtrack</td>\n",
              "      <td>tt0134084,tt1262416,tt0120082,tt0117571</td>\n",
              "    </tr>\n",
              "    <tr>\n",
              "      <th>3</th>\n",
              "      <td>nm0000132</td>\n",
              "      <td>Claire Danes</td>\n",
              "      <td>1979</td>\n",
              "      <td>\\N</td>\n",
              "      <td>actress,producer,soundtrack</td>\n",
              "      <td>tt0274558,tt0108872,tt1796960,tt0117509</td>\n",
              "    </tr>\n",
              "    <tr>\n",
              "      <th>4</th>\n",
              "      <td>nm0000138</td>\n",
              "      <td>Leonardo DiCaprio</td>\n",
              "      <td>1974</td>\n",
              "      <td>\\N</td>\n",
              "      <td>actor,producer,writer</td>\n",
              "      <td>tt0120338,tt0993846,tt1375666,tt0407887</td>\n",
              "    </tr>\n",
              "  </tbody>\n",
              "</table>\n",
              "</div>"
            ],
            "text/plain": [
              "      nconst  ...                           knownForTitles\n",
              "0  nm0000103  ...  tt0181875,tt0089908,tt0120586,tt0115963\n",
              "1  nm0000106  ...  tt0120888,tt0343660,tt0151738,tt0120631\n",
              "2  nm0000117  ...  tt0134084,tt1262416,tt0120082,tt0117571\n",
              "3  nm0000132  ...  tt0274558,tt0108872,tt1796960,tt0117509\n",
              "4  nm0000138  ...  tt0120338,tt0993846,tt1375666,tt0407887\n",
              "\n",
              "[5 rows x 6 columns]"
            ]
          },
          "metadata": {
            "tags": []
          },
          "execution_count": 62
        }
      ]
    },
    {
      "cell_type": "code",
      "metadata": {
        "id": "1ChHsSmNKkZ8",
        "colab_type": "code",
        "colab": {
          "base_uri": "https://localhost:8080/",
          "height": 118
        },
        "outputId": "9685de51-ce8f-4cdd-a064-68ae84302cfe"
      },
      "source": [
        "star['deathYear'].value_counts().head()"
      ],
      "execution_count": null,
      "outputs": [
        {
          "output_type": "execute_result",
          "data": {
            "text/plain": [
              "\\N      7742\n",
              "2019      11\n",
              "2016       8\n",
              "2009       8\n",
              "2017       8\n",
              "Name: deathYear, dtype: int64"
            ]
          },
          "metadata": {
            "tags": []
          },
          "execution_count": 65
        }
      ]
    },
    {
      "cell_type": "code",
      "metadata": {
        "id": "J1wikR46K3NS",
        "colab_type": "code",
        "colab": {
          "base_uri": "https://localhost:8080/",
          "height": 136
        },
        "outputId": "2a83eb9c-2372-429e-e06b-305b095fcff8"
      },
      "source": [
        "star['years'] = 2020 - star['birthYear']\n",
        "star.head(3)"
      ],
      "execution_count": null,
      "outputs": [
        {
          "output_type": "execute_result",
          "data": {
            "text/html": [
              "<div>\n",
              "<style scoped>\n",
              "    .dataframe tbody tr th:only-of-type {\n",
              "        vertical-align: middle;\n",
              "    }\n",
              "\n",
              "    .dataframe tbody tr th {\n",
              "        vertical-align: top;\n",
              "    }\n",
              "\n",
              "    .dataframe thead th {\n",
              "        text-align: right;\n",
              "    }\n",
              "</style>\n",
              "<table border=\"1\" class=\"dataframe\">\n",
              "  <thead>\n",
              "    <tr style=\"text-align: right;\">\n",
              "      <th></th>\n",
              "      <th>nconst</th>\n",
              "      <th>primaryName</th>\n",
              "      <th>birthYear</th>\n",
              "      <th>deathYear</th>\n",
              "      <th>primaryProfession</th>\n",
              "      <th>knownForTitles</th>\n",
              "      <th>years</th>\n",
              "    </tr>\n",
              "  </thead>\n",
              "  <tbody>\n",
              "    <tr>\n",
              "      <th>0</th>\n",
              "      <td>nm0000103</td>\n",
              "      <td>Fairuza Balk</td>\n",
              "      <td>1974</td>\n",
              "      <td>\\N</td>\n",
              "      <td>actress,soundtrack</td>\n",
              "      <td>tt0181875,tt0089908,tt0120586,tt0115963</td>\n",
              "      <td>46</td>\n",
              "    </tr>\n",
              "    <tr>\n",
              "      <th>1</th>\n",
              "      <td>nm0000106</td>\n",
              "      <td>Drew Barrymore</td>\n",
              "      <td>1975</td>\n",
              "      <td>\\N</td>\n",
              "      <td>producer,actress,soundtrack</td>\n",
              "      <td>tt0120888,tt0343660,tt0151738,tt0120631</td>\n",
              "      <td>45</td>\n",
              "    </tr>\n",
              "    <tr>\n",
              "      <th>2</th>\n",
              "      <td>nm0000117</td>\n",
              "      <td>Neve Campbell</td>\n",
              "      <td>1973</td>\n",
              "      <td>\\N</td>\n",
              "      <td>actress,producer,soundtrack</td>\n",
              "      <td>tt0134084,tt1262416,tt0120082,tt0117571</td>\n",
              "      <td>47</td>\n",
              "    </tr>\n",
              "  </tbody>\n",
              "</table>\n",
              "</div>"
            ],
            "text/plain": [
              "      nconst     primaryName  ...                           knownForTitles years\n",
              "0  nm0000103    Fairuza Balk  ...  tt0181875,tt0089908,tt0120586,tt0115963    46\n",
              "1  nm0000106  Drew Barrymore  ...  tt0120888,tt0343660,tt0151738,tt0120631    45\n",
              "2  nm0000117   Neve Campbell  ...  tt0134084,tt1262416,tt0120082,tt0117571    47\n",
              "\n",
              "[3 rows x 7 columns]"
            ]
          },
          "metadata": {
            "tags": []
          },
          "execution_count": 67
        }
      ]
    },
    {
      "cell_type": "code",
      "metadata": {
        "id": "K2AMnIfuMpEl",
        "colab_type": "code",
        "colab": {
          "base_uri": "https://localhost:8080/",
          "height": 136
        },
        "outputId": "19967e6c-b678-4932-fe22-67f151ab8e9c"
      },
      "source": [
        "year = star[['deathYear', 'years','primaryName']]\n",
        "year.head(3)"
      ],
      "execution_count": null,
      "outputs": [
        {
          "output_type": "execute_result",
          "data": {
            "text/html": [
              "<div>\n",
              "<style scoped>\n",
              "    .dataframe tbody tr th:only-of-type {\n",
              "        vertical-align: middle;\n",
              "    }\n",
              "\n",
              "    .dataframe tbody tr th {\n",
              "        vertical-align: top;\n",
              "    }\n",
              "\n",
              "    .dataframe thead th {\n",
              "        text-align: right;\n",
              "    }\n",
              "</style>\n",
              "<table border=\"1\" class=\"dataframe\">\n",
              "  <thead>\n",
              "    <tr style=\"text-align: right;\">\n",
              "      <th></th>\n",
              "      <th>deathYear</th>\n",
              "      <th>years</th>\n",
              "      <th>primaryName</th>\n",
              "    </tr>\n",
              "  </thead>\n",
              "  <tbody>\n",
              "    <tr>\n",
              "      <th>0</th>\n",
              "      <td>\\N</td>\n",
              "      <td>46</td>\n",
              "      <td>Fairuza Balk</td>\n",
              "    </tr>\n",
              "    <tr>\n",
              "      <th>1</th>\n",
              "      <td>\\N</td>\n",
              "      <td>45</td>\n",
              "      <td>Drew Barrymore</td>\n",
              "    </tr>\n",
              "    <tr>\n",
              "      <th>2</th>\n",
              "      <td>\\N</td>\n",
              "      <td>47</td>\n",
              "      <td>Neve Campbell</td>\n",
              "    </tr>\n",
              "  </tbody>\n",
              "</table>\n",
              "</div>"
            ],
            "text/plain": [
              "  deathYear  years     primaryName\n",
              "0        \\N     46    Fairuza Balk\n",
              "1        \\N     45  Drew Barrymore\n",
              "2        \\N     47   Neve Campbell"
            ]
          },
          "metadata": {
            "tags": []
          },
          "execution_count": 96
        }
      ]
    },
    {
      "cell_type": "code",
      "metadata": {
        "id": "gV5c5ogQLPwH",
        "colab_type": "code",
        "colab": {
          "base_uri": "https://localhost:8080/",
          "height": 431
        },
        "outputId": "32aef4c7-e6c9-489b-aaea-f2dd620c348f"
      },
      "source": [
        "by_deathyear = year.groupby(['deathYear','years']).count()\n",
        "by_deathyear"
      ],
      "execution_count": null,
      "outputs": [
        {
          "output_type": "execute_result",
          "data": {
            "text/html": [
              "<div>\n",
              "<style scoped>\n",
              "    .dataframe tbody tr th:only-of-type {\n",
              "        vertical-align: middle;\n",
              "    }\n",
              "\n",
              "    .dataframe tbody tr th {\n",
              "        vertical-align: top;\n",
              "    }\n",
              "\n",
              "    .dataframe thead th {\n",
              "        text-align: right;\n",
              "    }\n",
              "</style>\n",
              "<table border=\"1\" class=\"dataframe\">\n",
              "  <thead>\n",
              "    <tr style=\"text-align: right;\">\n",
              "      <th></th>\n",
              "      <th></th>\n",
              "      <th>primaryName</th>\n",
              "    </tr>\n",
              "    <tr>\n",
              "      <th>deathYear</th>\n",
              "      <th>years</th>\n",
              "      <th></th>\n",
              "    </tr>\n",
              "  </thead>\n",
              "  <tbody>\n",
              "    <tr>\n",
              "      <th>1993</th>\n",
              "      <th>46</th>\n",
              "      <td>1</td>\n",
              "    </tr>\n",
              "    <tr>\n",
              "      <th rowspan=\"2\" valign=\"top\">1995</th>\n",
              "      <th>45</th>\n",
              "      <td>1</td>\n",
              "    </tr>\n",
              "    <tr>\n",
              "      <th>49</th>\n",
              "      <td>1</td>\n",
              "    </tr>\n",
              "    <tr>\n",
              "      <th>1996</th>\n",
              "      <th>49</th>\n",
              "      <td>1</td>\n",
              "    </tr>\n",
              "    <tr>\n",
              "      <th>2000</th>\n",
              "      <th>44</th>\n",
              "      <td>1</td>\n",
              "    </tr>\n",
              "    <tr>\n",
              "      <th>...</th>\n",
              "      <th>...</th>\n",
              "      <td>...</td>\n",
              "    </tr>\n",
              "    <tr>\n",
              "      <th rowspan=\"5\" valign=\"top\">\\N</th>\n",
              "      <th>45</th>\n",
              "      <td>472</td>\n",
              "    </tr>\n",
              "    <tr>\n",
              "      <th>46</th>\n",
              "      <td>447</td>\n",
              "    </tr>\n",
              "    <tr>\n",
              "      <th>47</th>\n",
              "      <td>505</td>\n",
              "    </tr>\n",
              "    <tr>\n",
              "      <th>48</th>\n",
              "      <td>511</td>\n",
              "    </tr>\n",
              "    <tr>\n",
              "      <th>49</th>\n",
              "      <td>498</td>\n",
              "    </tr>\n",
              "  </tbody>\n",
              "</table>\n",
              "<p>99 rows × 1 columns</p>\n",
              "</div>"
            ],
            "text/plain": [
              "                 primaryName\n",
              "deathYear years             \n",
              "1993      46               1\n",
              "1995      45               1\n",
              "          49               1\n",
              "1996      49               1\n",
              "2000      44               1\n",
              "...                      ...\n",
              "\\N        45             472\n",
              "          46             447\n",
              "          47             505\n",
              "          48             511\n",
              "          49             498\n",
              "\n",
              "[99 rows x 1 columns]"
            ]
          },
          "metadata": {
            "tags": []
          },
          "execution_count": 100
        }
      ]
    },
    {
      "cell_type": "code",
      "metadata": {
        "id": "YrTdB0r0Ril7",
        "colab_type": "code",
        "colab": {
          "base_uri": "https://localhost:8080/",
          "height": 639
        },
        "outputId": "d7866651-d70e-4432-f1ed-84cc691c1001"
      },
      "source": [
        "alive = by_deathyear.loc[[r'\\N'], : ]\n",
        "alive"
      ],
      "execution_count": null,
      "outputs": [
        {
          "output_type": "execute_result",
          "data": {
            "text/html": [
              "<div>\n",
              "<style scoped>\n",
              "    .dataframe tbody tr th:only-of-type {\n",
              "        vertical-align: middle;\n",
              "    }\n",
              "\n",
              "    .dataframe tbody tr th {\n",
              "        vertical-align: top;\n",
              "    }\n",
              "\n",
              "    .dataframe thead th {\n",
              "        text-align: right;\n",
              "    }\n",
              "</style>\n",
              "<table border=\"1\" class=\"dataframe\">\n",
              "  <thead>\n",
              "    <tr style=\"text-align: right;\">\n",
              "      <th></th>\n",
              "      <th></th>\n",
              "      <th>primaryName</th>\n",
              "    </tr>\n",
              "    <tr>\n",
              "      <th>deathYear</th>\n",
              "      <th>years</th>\n",
              "      <th></th>\n",
              "    </tr>\n",
              "  </thead>\n",
              "  <tbody>\n",
              "    <tr>\n",
              "      <th rowspan=\"19\" valign=\"top\">\\N</th>\n",
              "      <th>31</th>\n",
              "      <td>213</td>\n",
              "    </tr>\n",
              "    <tr>\n",
              "      <th>32</th>\n",
              "      <td>233</td>\n",
              "    </tr>\n",
              "    <tr>\n",
              "      <th>33</th>\n",
              "      <td>288</td>\n",
              "    </tr>\n",
              "    <tr>\n",
              "      <th>34</th>\n",
              "      <td>328</td>\n",
              "    </tr>\n",
              "    <tr>\n",
              "      <th>35</th>\n",
              "      <td>317</td>\n",
              "    </tr>\n",
              "    <tr>\n",
              "      <th>36</th>\n",
              "      <td>365</td>\n",
              "    </tr>\n",
              "    <tr>\n",
              "      <th>37</th>\n",
              "      <td>389</td>\n",
              "    </tr>\n",
              "    <tr>\n",
              "      <th>38</th>\n",
              "      <td>438</td>\n",
              "    </tr>\n",
              "    <tr>\n",
              "      <th>39</th>\n",
              "      <td>430</td>\n",
              "    </tr>\n",
              "    <tr>\n",
              "      <th>40</th>\n",
              "      <td>448</td>\n",
              "    </tr>\n",
              "    <tr>\n",
              "      <th>41</th>\n",
              "      <td>495</td>\n",
              "    </tr>\n",
              "    <tr>\n",
              "      <th>42</th>\n",
              "      <td>460</td>\n",
              "    </tr>\n",
              "    <tr>\n",
              "      <th>43</th>\n",
              "      <td>442</td>\n",
              "    </tr>\n",
              "    <tr>\n",
              "      <th>44</th>\n",
              "      <td>463</td>\n",
              "    </tr>\n",
              "    <tr>\n",
              "      <th>45</th>\n",
              "      <td>472</td>\n",
              "    </tr>\n",
              "    <tr>\n",
              "      <th>46</th>\n",
              "      <td>447</td>\n",
              "    </tr>\n",
              "    <tr>\n",
              "      <th>47</th>\n",
              "      <td>505</td>\n",
              "    </tr>\n",
              "    <tr>\n",
              "      <th>48</th>\n",
              "      <td>511</td>\n",
              "    </tr>\n",
              "    <tr>\n",
              "      <th>49</th>\n",
              "      <td>498</td>\n",
              "    </tr>\n",
              "  </tbody>\n",
              "</table>\n",
              "</div>"
            ],
            "text/plain": [
              "                 primaryName\n",
              "deathYear years             \n",
              "\\N        31             213\n",
              "          32             233\n",
              "          33             288\n",
              "          34             328\n",
              "          35             317\n",
              "          36             365\n",
              "          37             389\n",
              "          38             438\n",
              "          39             430\n",
              "          40             448\n",
              "          41             495\n",
              "          42             460\n",
              "          43             442\n",
              "          44             463\n",
              "          45             472\n",
              "          46             447\n",
              "          47             505\n",
              "          48             511\n",
              "          49             498"
            ]
          },
          "metadata": {
            "tags": []
          },
          "execution_count": 109
        }
      ]
    },
    {
      "cell_type": "code",
      "metadata": {
        "id": "z5LnWcWGfgfw",
        "colab_type": "code",
        "colab": {
          "base_uri": "https://localhost:8080/",
          "height": 669
        },
        "outputId": "cb05ef7e-c892-439c-dd25-d6ea3e32a126"
      },
      "source": [
        "alive.unstack(level=0)"
      ],
      "execution_count": null,
      "outputs": [
        {
          "output_type": "execute_result",
          "data": {
            "text/html": [
              "<div>\n",
              "<style scoped>\n",
              "    .dataframe tbody tr th:only-of-type {\n",
              "        vertical-align: middle;\n",
              "    }\n",
              "\n",
              "    .dataframe tbody tr th {\n",
              "        vertical-align: top;\n",
              "    }\n",
              "\n",
              "    .dataframe thead tr th {\n",
              "        text-align: left;\n",
              "    }\n",
              "\n",
              "    .dataframe thead tr:last-of-type th {\n",
              "        text-align: right;\n",
              "    }\n",
              "</style>\n",
              "<table border=\"1\" class=\"dataframe\">\n",
              "  <thead>\n",
              "    <tr>\n",
              "      <th></th>\n",
              "      <th>primaryName</th>\n",
              "    </tr>\n",
              "    <tr>\n",
              "      <th>deathYear</th>\n",
              "      <th>\\N</th>\n",
              "    </tr>\n",
              "    <tr>\n",
              "      <th>years</th>\n",
              "      <th></th>\n",
              "    </tr>\n",
              "  </thead>\n",
              "  <tbody>\n",
              "    <tr>\n",
              "      <th>31</th>\n",
              "      <td>213</td>\n",
              "    </tr>\n",
              "    <tr>\n",
              "      <th>32</th>\n",
              "      <td>233</td>\n",
              "    </tr>\n",
              "    <tr>\n",
              "      <th>33</th>\n",
              "      <td>288</td>\n",
              "    </tr>\n",
              "    <tr>\n",
              "      <th>34</th>\n",
              "      <td>328</td>\n",
              "    </tr>\n",
              "    <tr>\n",
              "      <th>35</th>\n",
              "      <td>317</td>\n",
              "    </tr>\n",
              "    <tr>\n",
              "      <th>36</th>\n",
              "      <td>365</td>\n",
              "    </tr>\n",
              "    <tr>\n",
              "      <th>37</th>\n",
              "      <td>389</td>\n",
              "    </tr>\n",
              "    <tr>\n",
              "      <th>38</th>\n",
              "      <td>438</td>\n",
              "    </tr>\n",
              "    <tr>\n",
              "      <th>39</th>\n",
              "      <td>430</td>\n",
              "    </tr>\n",
              "    <tr>\n",
              "      <th>40</th>\n",
              "      <td>448</td>\n",
              "    </tr>\n",
              "    <tr>\n",
              "      <th>41</th>\n",
              "      <td>495</td>\n",
              "    </tr>\n",
              "    <tr>\n",
              "      <th>42</th>\n",
              "      <td>460</td>\n",
              "    </tr>\n",
              "    <tr>\n",
              "      <th>43</th>\n",
              "      <td>442</td>\n",
              "    </tr>\n",
              "    <tr>\n",
              "      <th>44</th>\n",
              "      <td>463</td>\n",
              "    </tr>\n",
              "    <tr>\n",
              "      <th>45</th>\n",
              "      <td>472</td>\n",
              "    </tr>\n",
              "    <tr>\n",
              "      <th>46</th>\n",
              "      <td>447</td>\n",
              "    </tr>\n",
              "    <tr>\n",
              "      <th>47</th>\n",
              "      <td>505</td>\n",
              "    </tr>\n",
              "    <tr>\n",
              "      <th>48</th>\n",
              "      <td>511</td>\n",
              "    </tr>\n",
              "    <tr>\n",
              "      <th>49</th>\n",
              "      <td>498</td>\n",
              "    </tr>\n",
              "  </tbody>\n",
              "</table>\n",
              "</div>"
            ],
            "text/plain": [
              "          primaryName\n",
              "deathYear          \\N\n",
              "years                \n",
              "31                213\n",
              "32                233\n",
              "33                288\n",
              "34                328\n",
              "35                317\n",
              "36                365\n",
              "37                389\n",
              "38                438\n",
              "39                430\n",
              "40                448\n",
              "41                495\n",
              "42                460\n",
              "43                442\n",
              "44                463\n",
              "45                472\n",
              "46                447\n",
              "47                505\n",
              "48                511\n",
              "49                498"
            ]
          },
          "metadata": {
            "tags": []
          },
          "execution_count": 110
        }
      ]
    },
    {
      "cell_type": "markdown",
      "metadata": {
        "id": "XfXfRTGWSNt_",
        "colab_type": "text"
      },
      "source": [
        "# 4. มีนักแสดงกี่คนที่เคยแสดงในภาพยนตร์ Action"
      ]
    },
    {
      "cell_type": "code",
      "metadata": {
        "id": "TOvdh6KHA8xa",
        "colab_type": "code",
        "colab": {
          "base_uri": "https://localhost:8080/",
          "height": 106
        },
        "outputId": "ffb09f31-2a3c-4dd3-e45f-2c124c623b9f"
      },
      "source": [
        "#solution\n",
        "cast\n",
        "title.head(2)\n",
        "ttx = title[['tconst','genres']]\n",
        "ttx.head(2)"
      ],
      "execution_count": null,
      "outputs": [
        {
          "output_type": "execute_result",
          "data": {
            "text/html": [
              "<div>\n",
              "<style scoped>\n",
              "    .dataframe tbody tr th:only-of-type {\n",
              "        vertical-align: middle;\n",
              "    }\n",
              "\n",
              "    .dataframe tbody tr th {\n",
              "        vertical-align: top;\n",
              "    }\n",
              "\n",
              "    .dataframe thead th {\n",
              "        text-align: right;\n",
              "    }\n",
              "</style>\n",
              "<table border=\"1\" class=\"dataframe\">\n",
              "  <thead>\n",
              "    <tr style=\"text-align: right;\">\n",
              "      <th></th>\n",
              "      <th>tconst</th>\n",
              "      <th>genres</th>\n",
              "    </tr>\n",
              "  </thead>\n",
              "  <tbody>\n",
              "    <tr>\n",
              "      <th>0</th>\n",
              "      <td>tt0192789</td>\n",
              "      <td>Comedy,Musical</td>\n",
              "    </tr>\n",
              "    <tr>\n",
              "      <th>1</th>\n",
              "      <td>tt4914592</td>\n",
              "      <td>Adventure,Drama,Music</td>\n",
              "    </tr>\n",
              "  </tbody>\n",
              "</table>\n",
              "</div>"
            ],
            "text/plain": [
              "      tconst                 genres\n",
              "0  tt0192789         Comedy,Musical\n",
              "1  tt4914592  Adventure,Drama,Music"
            ]
          },
          "metadata": {
            "tags": []
          },
          "execution_count": 115
        }
      ]
    },
    {
      "cell_type": "code",
      "metadata": {
        "id": "X5rtHV-yhjEB",
        "colab_type": "code",
        "colab": {}
      },
      "source": [
        "sx = ttx['genres'].str.split(',').apply(Series, 1).stack()\n",
        "sx.index = sx.index.droplevel(-1)\n",
        "sx.name = 'genres'\n",
        "del ttx['genres']\n",
        "dfx = ttx.join(sx)"
      ],
      "execution_count": null,
      "outputs": []
    },
    {
      "cell_type": "code",
      "metadata": {
        "id": "KQ79wksNihwl",
        "colab_type": "code",
        "colab": {
          "base_uri": "https://localhost:8080/",
          "height": 402
        },
        "outputId": "9f8f487b-1926-43da-8c86-a7856785259b"
      },
      "source": [
        "dfx"
      ],
      "execution_count": null,
      "outputs": [
        {
          "output_type": "execute_result",
          "data": {
            "text/html": [
              "<div>\n",
              "<style scoped>\n",
              "    .dataframe tbody tr th:only-of-type {\n",
              "        vertical-align: middle;\n",
              "    }\n",
              "\n",
              "    .dataframe tbody tr th {\n",
              "        vertical-align: top;\n",
              "    }\n",
              "\n",
              "    .dataframe thead th {\n",
              "        text-align: right;\n",
              "    }\n",
              "</style>\n",
              "<table border=\"1\" class=\"dataframe\">\n",
              "  <thead>\n",
              "    <tr style=\"text-align: right;\">\n",
              "      <th></th>\n",
              "      <th>tconst</th>\n",
              "      <th>genres</th>\n",
              "    </tr>\n",
              "  </thead>\n",
              "  <tbody>\n",
              "    <tr>\n",
              "      <th>0</th>\n",
              "      <td>tt0192789</td>\n",
              "      <td>Comedy</td>\n",
              "    </tr>\n",
              "    <tr>\n",
              "      <th>0</th>\n",
              "      <td>tt0192789</td>\n",
              "      <td>Musical</td>\n",
              "    </tr>\n",
              "    <tr>\n",
              "      <th>1</th>\n",
              "      <td>tt4914592</td>\n",
              "      <td>Adventure</td>\n",
              "    </tr>\n",
              "    <tr>\n",
              "      <th>1</th>\n",
              "      <td>tt4914592</td>\n",
              "      <td>Drama</td>\n",
              "    </tr>\n",
              "    <tr>\n",
              "      <th>1</th>\n",
              "      <td>tt4914592</td>\n",
              "      <td>Music</td>\n",
              "    </tr>\n",
              "    <tr>\n",
              "      <th>...</th>\n",
              "      <td>...</td>\n",
              "      <td>...</td>\n",
              "    </tr>\n",
              "    <tr>\n",
              "      <th>6290</th>\n",
              "      <td>tt1310674</td>\n",
              "      <td>Documentary</td>\n",
              "    </tr>\n",
              "    <tr>\n",
              "      <th>6291</th>\n",
              "      <td>tt0204187</td>\n",
              "      <td>Adult</td>\n",
              "    </tr>\n",
              "    <tr>\n",
              "      <th>6292</th>\n",
              "      <td>tt1520836</td>\n",
              "      <td>Biography</td>\n",
              "    </tr>\n",
              "    <tr>\n",
              "      <th>6292</th>\n",
              "      <td>tt1520836</td>\n",
              "      <td>Comedy</td>\n",
              "    </tr>\n",
              "    <tr>\n",
              "      <th>6292</th>\n",
              "      <td>tt1520836</td>\n",
              "      <td>Crime</td>\n",
              "    </tr>\n",
              "  </tbody>\n",
              "</table>\n",
              "<p>10894 rows × 2 columns</p>\n",
              "</div>"
            ],
            "text/plain": [
              "         tconst       genres\n",
              "0     tt0192789       Comedy\n",
              "0     tt0192789      Musical\n",
              "1     tt4914592    Adventure\n",
              "1     tt4914592        Drama\n",
              "1     tt4914592        Music\n",
              "...         ...          ...\n",
              "6290  tt1310674  Documentary\n",
              "6291  tt0204187        Adult\n",
              "6292  tt1520836    Biography\n",
              "6292  tt1520836       Comedy\n",
              "6292  tt1520836        Crime\n",
              "\n",
              "[10894 rows x 2 columns]"
            ]
          },
          "metadata": {
            "tags": []
          },
          "execution_count": 119
        }
      ]
    },
    {
      "cell_type": "code",
      "metadata": {
        "id": "B2sDVJhps1jG",
        "colab_type": "code",
        "colab": {
          "base_uri": "https://localhost:8080/",
          "height": 136
        },
        "outputId": "93fe05c1-1793-4310-b750-315a06c35916"
      },
      "source": [
        "cast.head(3)"
      ],
      "execution_count": null,
      "outputs": [
        {
          "output_type": "execute_result",
          "data": {
            "text/html": [
              "<div>\n",
              "<style scoped>\n",
              "    .dataframe tbody tr th:only-of-type {\n",
              "        vertical-align: middle;\n",
              "    }\n",
              "\n",
              "    .dataframe tbody tr th {\n",
              "        vertical-align: top;\n",
              "    }\n",
              "\n",
              "    .dataframe thead th {\n",
              "        text-align: right;\n",
              "    }\n",
              "</style>\n",
              "<table border=\"1\" class=\"dataframe\">\n",
              "  <thead>\n",
              "    <tr style=\"text-align: right;\">\n",
              "      <th></th>\n",
              "      <th>tconst</th>\n",
              "      <th>ordering</th>\n",
              "      <th>nconst</th>\n",
              "      <th>category</th>\n",
              "      <th>job</th>\n",
              "      <th>characters</th>\n",
              "    </tr>\n",
              "  </thead>\n",
              "  <tbody>\n",
              "    <tr>\n",
              "      <th>0</th>\n",
              "      <td>tt0099462</td>\n",
              "      <td>1</td>\n",
              "      <td>nm0000433</td>\n",
              "      <td>actor</td>\n",
              "      <td>\\N</td>\n",
              "      <td>[\"Barry Davis\"]</td>\n",
              "    </tr>\n",
              "    <tr>\n",
              "      <th>1</th>\n",
              "      <td>tt0101281</td>\n",
              "      <td>2</td>\n",
              "      <td>nm0253327</td>\n",
              "      <td>actor</td>\n",
              "      <td>\\N</td>\n",
              "      <td>[\"Dag Sjöborg\"]</td>\n",
              "    </tr>\n",
              "    <tr>\n",
              "      <th>2</th>\n",
              "      <td>tt0101301</td>\n",
              "      <td>3</td>\n",
              "      <td>nm0256121</td>\n",
              "      <td>actor</td>\n",
              "      <td>\\N</td>\n",
              "      <td>[\"Ethan O'Fallon\"]</td>\n",
              "    </tr>\n",
              "  </tbody>\n",
              "</table>\n",
              "</div>"
            ],
            "text/plain": [
              "      tconst  ordering     nconst category job          characters\n",
              "0  tt0099462         1  nm0000433    actor  \\N     [\"Barry Davis\"]\n",
              "1  tt0101281         2  nm0253327    actor  \\N     [\"Dag Sjöborg\"]\n",
              "2  tt0101301         3  nm0256121    actor  \\N  [\"Ethan O'Fallon\"]"
            ]
          },
          "metadata": {
            "tags": []
          },
          "execution_count": 162
        }
      ]
    },
    {
      "cell_type": "code",
      "metadata": {
        "id": "WDxD2Y07iEXa",
        "colab_type": "code",
        "colab": {
          "base_uri": "https://localhost:8080/",
          "height": 402
        },
        "outputId": "17ee2aad-c352-47e5-807d-95bd50016a7f"
      },
      "source": [
        "castx = cast.loc[(cast['category']=='actor') | (cast['category']=='actress')]\n",
        "castx"
      ],
      "execution_count": null,
      "outputs": [
        {
          "output_type": "execute_result",
          "data": {
            "text/html": [
              "<div>\n",
              "<style scoped>\n",
              "    .dataframe tbody tr th:only-of-type {\n",
              "        vertical-align: middle;\n",
              "    }\n",
              "\n",
              "    .dataframe tbody tr th {\n",
              "        vertical-align: top;\n",
              "    }\n",
              "\n",
              "    .dataframe thead th {\n",
              "        text-align: right;\n",
              "    }\n",
              "</style>\n",
              "<table border=\"1\" class=\"dataframe\">\n",
              "  <thead>\n",
              "    <tr style=\"text-align: right;\">\n",
              "      <th></th>\n",
              "      <th>tconst</th>\n",
              "      <th>ordering</th>\n",
              "      <th>nconst</th>\n",
              "      <th>category</th>\n",
              "      <th>job</th>\n",
              "      <th>characters</th>\n",
              "    </tr>\n",
              "  </thead>\n",
              "  <tbody>\n",
              "    <tr>\n",
              "      <th>0</th>\n",
              "      <td>tt0099462</td>\n",
              "      <td>1</td>\n",
              "      <td>nm0000433</td>\n",
              "      <td>actor</td>\n",
              "      <td>\\N</td>\n",
              "      <td>[\"Barry Davis\"]</td>\n",
              "    </tr>\n",
              "    <tr>\n",
              "      <th>1</th>\n",
              "      <td>tt0101281</td>\n",
              "      <td>2</td>\n",
              "      <td>nm0253327</td>\n",
              "      <td>actor</td>\n",
              "      <td>\\N</td>\n",
              "      <td>[\"Dag Sjöborg\"]</td>\n",
              "    </tr>\n",
              "    <tr>\n",
              "      <th>2</th>\n",
              "      <td>tt0101301</td>\n",
              "      <td>3</td>\n",
              "      <td>nm0256121</td>\n",
              "      <td>actor</td>\n",
              "      <td>\\N</td>\n",
              "      <td>[\"Ethan O'Fallon\"]</td>\n",
              "    </tr>\n",
              "    <tr>\n",
              "      <th>3</th>\n",
              "      <td>tt0101635</td>\n",
              "      <td>3</td>\n",
              "      <td>nm0692018</td>\n",
              "      <td>actress</td>\n",
              "      <td>\\N</td>\n",
              "      <td>[\"Curly Sue\"]</td>\n",
              "    </tr>\n",
              "    <tr>\n",
              "      <th>4</th>\n",
              "      <td>tt0102183</td>\n",
              "      <td>2</td>\n",
              "      <td>nm0032643</td>\n",
              "      <td>actress</td>\n",
              "      <td>\\N</td>\n",
              "      <td>[\"Kathy\"]</td>\n",
              "    </tr>\n",
              "    <tr>\n",
              "      <th>...</th>\n",
              "      <td>...</td>\n",
              "      <td>...</td>\n",
              "      <td>...</td>\n",
              "      <td>...</td>\n",
              "      <td>...</td>\n",
              "      <td>...</td>\n",
              "    </tr>\n",
              "    <tr>\n",
              "      <th>10595</th>\n",
              "      <td>tt9892338</td>\n",
              "      <td>4</td>\n",
              "      <td>nm7797362</td>\n",
              "      <td>actor</td>\n",
              "      <td>\\N</td>\n",
              "      <td>[\"Amir\"]</td>\n",
              "    </tr>\n",
              "    <tr>\n",
              "      <th>10596</th>\n",
              "      <td>tt9892546</td>\n",
              "      <td>1</td>\n",
              "      <td>nm1647994</td>\n",
              "      <td>actress</td>\n",
              "      <td>\\N</td>\n",
              "      <td>[\"Karma\"]</td>\n",
              "    </tr>\n",
              "    <tr>\n",
              "      <th>10597</th>\n",
              "      <td>tt9892546</td>\n",
              "      <td>3</td>\n",
              "      <td>nm2648766</td>\n",
              "      <td>actor</td>\n",
              "      <td>\\N</td>\n",
              "      <td>[\"Aladdin\"]</td>\n",
              "    </tr>\n",
              "    <tr>\n",
              "      <th>10598</th>\n",
              "      <td>tt9916428</td>\n",
              "      <td>6</td>\n",
              "      <td>nm8680851</td>\n",
              "      <td>actor</td>\n",
              "      <td>\\N</td>\n",
              "      <td>[\"Powell Editor-in-chief of US newspaper\"]</td>\n",
              "    </tr>\n",
              "    <tr>\n",
              "      <th>10599</th>\n",
              "      <td>tt9916428</td>\n",
              "      <td>8</td>\n",
              "      <td>nm3370295</td>\n",
              "      <td>actor</td>\n",
              "      <td>\\N</td>\n",
              "      <td>[\"Train Station Manager\"]</td>\n",
              "    </tr>\n",
              "  </tbody>\n",
              "</table>\n",
              "<p>9137 rows × 6 columns</p>\n",
              "</div>"
            ],
            "text/plain": [
              "          tconst  ordering  ... job                                  characters\n",
              "0      tt0099462         1  ...  \\N                             [\"Barry Davis\"]\n",
              "1      tt0101281         2  ...  \\N                             [\"Dag Sjöborg\"]\n",
              "2      tt0101301         3  ...  \\N                          [\"Ethan O'Fallon\"]\n",
              "3      tt0101635         3  ...  \\N                               [\"Curly Sue\"]\n",
              "4      tt0102183         2  ...  \\N                                   [\"Kathy\"]\n",
              "...          ...       ...  ...  ..                                         ...\n",
              "10595  tt9892338         4  ...  \\N                                    [\"Amir\"]\n",
              "10596  tt9892546         1  ...  \\N                                   [\"Karma\"]\n",
              "10597  tt9892546         3  ...  \\N                                 [\"Aladdin\"]\n",
              "10598  tt9916428         6  ...  \\N  [\"Powell Editor-in-chief of US newspaper\"]\n",
              "10599  tt9916428         8  ...  \\N                   [\"Train Station Manager\"]\n",
              "\n",
              "[9137 rows x 6 columns]"
            ]
          },
          "metadata": {
            "tags": []
          },
          "execution_count": 171
        }
      ]
    },
    {
      "cell_type": "code",
      "metadata": {
        "id": "fRiAV5Ddju4P",
        "colab_type": "code",
        "colab": {
          "base_uri": "https://localhost:8080/",
          "height": 402
        },
        "outputId": "8e162f33-4a79-4759-9b12-f55f56bd8bb5"
      },
      "source": [
        "dfx_join = pd.merge(castx, dfx, on='tconst', how='outer')\n",
        "dfx_join[['nconst', 'genres']]"
      ],
      "execution_count": null,
      "outputs": [
        {
          "output_type": "execute_result",
          "data": {
            "text/html": [
              "<div>\n",
              "<style scoped>\n",
              "    .dataframe tbody tr th:only-of-type {\n",
              "        vertical-align: middle;\n",
              "    }\n",
              "\n",
              "    .dataframe tbody tr th {\n",
              "        vertical-align: top;\n",
              "    }\n",
              "\n",
              "    .dataframe thead th {\n",
              "        text-align: right;\n",
              "    }\n",
              "</style>\n",
              "<table border=\"1\" class=\"dataframe\">\n",
              "  <thead>\n",
              "    <tr style=\"text-align: right;\">\n",
              "      <th></th>\n",
              "      <th>nconst</th>\n",
              "      <th>genres</th>\n",
              "    </tr>\n",
              "  </thead>\n",
              "  <tbody>\n",
              "    <tr>\n",
              "      <th>0</th>\n",
              "      <td>nm0000433</td>\n",
              "      <td>Action</td>\n",
              "    </tr>\n",
              "    <tr>\n",
              "      <th>1</th>\n",
              "      <td>nm0000433</td>\n",
              "      <td>Comedy</td>\n",
              "    </tr>\n",
              "    <tr>\n",
              "      <th>2</th>\n",
              "      <td>nm0000433</td>\n",
              "      <td>Crime</td>\n",
              "    </tr>\n",
              "    <tr>\n",
              "      <th>3</th>\n",
              "      <td>nm0253327</td>\n",
              "      <td>Mystery</td>\n",
              "    </tr>\n",
              "    <tr>\n",
              "      <th>4</th>\n",
              "      <td>nm0256121</td>\n",
              "      <td>Comedy</td>\n",
              "    </tr>\n",
              "    <tr>\n",
              "      <th>...</th>\n",
              "      <td>...</td>\n",
              "      <td>...</td>\n",
              "    </tr>\n",
              "    <tr>\n",
              "      <th>17544</th>\n",
              "      <td>NaN</td>\n",
              "      <td>Drama</td>\n",
              "    </tr>\n",
              "    <tr>\n",
              "      <th>17545</th>\n",
              "      <td>NaN</td>\n",
              "      <td>Documentary</td>\n",
              "    </tr>\n",
              "    <tr>\n",
              "      <th>17546</th>\n",
              "      <td>NaN</td>\n",
              "      <td>Comedy</td>\n",
              "    </tr>\n",
              "    <tr>\n",
              "      <th>17547</th>\n",
              "      <td>NaN</td>\n",
              "      <td>Drama</td>\n",
              "    </tr>\n",
              "    <tr>\n",
              "      <th>17548</th>\n",
              "      <td>NaN</td>\n",
              "      <td>Documentary</td>\n",
              "    </tr>\n",
              "  </tbody>\n",
              "</table>\n",
              "<p>17549 rows × 2 columns</p>\n",
              "</div>"
            ],
            "text/plain": [
              "          nconst       genres\n",
              "0      nm0000433       Action\n",
              "1      nm0000433       Comedy\n",
              "2      nm0000433        Crime\n",
              "3      nm0253327      Mystery\n",
              "4      nm0256121       Comedy\n",
              "...          ...          ...\n",
              "17544        NaN        Drama\n",
              "17545        NaN  Documentary\n",
              "17546        NaN       Comedy\n",
              "17547        NaN        Drama\n",
              "17548        NaN  Documentary\n",
              "\n",
              "[17549 rows x 2 columns]"
            ]
          },
          "metadata": {
            "tags": []
          },
          "execution_count": 172
        }
      ]
    },
    {
      "cell_type": "code",
      "metadata": {
        "id": "dlgtj5UFkHQs",
        "colab_type": "code",
        "colab": {
          "base_uri": "https://localhost:8080/",
          "height": 431
        },
        "outputId": "d17dcfdf-4b24-4e54-afa4-85b4e7afb2f1"
      },
      "source": [
        "dfx_group = dfx_join.groupby(['genres','nconst']).count()\n",
        "dfx_group"
      ],
      "execution_count": null,
      "outputs": [
        {
          "output_type": "execute_result",
          "data": {
            "text/html": [
              "<div>\n",
              "<style scoped>\n",
              "    .dataframe tbody tr th:only-of-type {\n",
              "        vertical-align: middle;\n",
              "    }\n",
              "\n",
              "    .dataframe tbody tr th {\n",
              "        vertical-align: top;\n",
              "    }\n",
              "\n",
              "    .dataframe thead th {\n",
              "        text-align: right;\n",
              "    }\n",
              "</style>\n",
              "<table border=\"1\" class=\"dataframe\">\n",
              "  <thead>\n",
              "    <tr style=\"text-align: right;\">\n",
              "      <th></th>\n",
              "      <th></th>\n",
              "      <th>tconst</th>\n",
              "      <th>ordering</th>\n",
              "      <th>category</th>\n",
              "      <th>job</th>\n",
              "      <th>characters</th>\n",
              "    </tr>\n",
              "    <tr>\n",
              "      <th>genres</th>\n",
              "      <th>nconst</th>\n",
              "      <th></th>\n",
              "      <th></th>\n",
              "      <th></th>\n",
              "      <th></th>\n",
              "      <th></th>\n",
              "    </tr>\n",
              "  </thead>\n",
              "  <tbody>\n",
              "    <tr>\n",
              "      <th rowspan=\"5\" valign=\"top\">Action</th>\n",
              "      <th>nm0000170</th>\n",
              "      <td>1</td>\n",
              "      <td>1</td>\n",
              "      <td>1</td>\n",
              "      <td>1</td>\n",
              "      <td>1</td>\n",
              "    </tr>\n",
              "    <tr>\n",
              "      <th>nm0000179</th>\n",
              "      <td>1</td>\n",
              "      <td>1</td>\n",
              "      <td>1</td>\n",
              "      <td>1</td>\n",
              "      <td>1</td>\n",
              "    </tr>\n",
              "    <tr>\n",
              "      <th>nm0000191</th>\n",
              "      <td>2</td>\n",
              "      <td>2</td>\n",
              "      <td>2</td>\n",
              "      <td>2</td>\n",
              "      <td>2</td>\n",
              "    </tr>\n",
              "    <tr>\n",
              "      <th>nm0000202</th>\n",
              "      <td>1</td>\n",
              "      <td>1</td>\n",
              "      <td>1</td>\n",
              "      <td>1</td>\n",
              "      <td>1</td>\n",
              "    </tr>\n",
              "    <tr>\n",
              "      <th>nm0000204</th>\n",
              "      <td>2</td>\n",
              "      <td>2</td>\n",
              "      <td>2</td>\n",
              "      <td>2</td>\n",
              "      <td>2</td>\n",
              "    </tr>\n",
              "    <tr>\n",
              "      <th>...</th>\n",
              "      <th>...</th>\n",
              "      <td>...</td>\n",
              "      <td>...</td>\n",
              "      <td>...</td>\n",
              "      <td>...</td>\n",
              "      <td>...</td>\n",
              "    </tr>\n",
              "    <tr>\n",
              "      <th rowspan=\"5\" valign=\"top\">\\N</th>\n",
              "      <th>nm8564216</th>\n",
              "      <td>1</td>\n",
              "      <td>1</td>\n",
              "      <td>1</td>\n",
              "      <td>1</td>\n",
              "      <td>1</td>\n",
              "    </tr>\n",
              "    <tr>\n",
              "      <th>nm8602380</th>\n",
              "      <td>1</td>\n",
              "      <td>1</td>\n",
              "      <td>1</td>\n",
              "      <td>1</td>\n",
              "      <td>1</td>\n",
              "    </tr>\n",
              "    <tr>\n",
              "      <th>nm8787600</th>\n",
              "      <td>1</td>\n",
              "      <td>1</td>\n",
              "      <td>1</td>\n",
              "      <td>1</td>\n",
              "      <td>1</td>\n",
              "    </tr>\n",
              "    <tr>\n",
              "      <th>nm9290105</th>\n",
              "      <td>1</td>\n",
              "      <td>1</td>\n",
              "      <td>1</td>\n",
              "      <td>1</td>\n",
              "      <td>1</td>\n",
              "    </tr>\n",
              "    <tr>\n",
              "      <th>nm9561903</th>\n",
              "      <td>2</td>\n",
              "      <td>2</td>\n",
              "      <td>2</td>\n",
              "      <td>2</td>\n",
              "      <td>2</td>\n",
              "    </tr>\n",
              "  </tbody>\n",
              "</table>\n",
              "<p>14514 rows × 5 columns</p>\n",
              "</div>"
            ],
            "text/plain": [
              "                  tconst  ordering  category  job  characters\n",
              "genres nconst                                                \n",
              "Action nm0000170       1         1         1    1           1\n",
              "       nm0000179       1         1         1    1           1\n",
              "       nm0000191       2         2         2    2           2\n",
              "       nm0000202       1         1         1    1           1\n",
              "       nm0000204       2         2         2    2           2\n",
              "...                  ...       ...       ...  ...         ...\n",
              "\\N     nm8564216       1         1         1    1           1\n",
              "       nm8602380       1         1         1    1           1\n",
              "       nm8787600       1         1         1    1           1\n",
              "       nm9290105       1         1         1    1           1\n",
              "       nm9561903       2         2         2    2           2\n",
              "\n",
              "[14514 rows x 5 columns]"
            ]
          },
          "metadata": {
            "tags": []
          },
          "execution_count": 173
        }
      ]
    },
    {
      "cell_type": "code",
      "metadata": {
        "id": "fq5gJ8axnCYR",
        "colab_type": "code",
        "colab": {
          "base_uri": "https://localhost:8080/",
          "height": 431
        },
        "outputId": "e188ef3f-519f-4dc3-fe30-5461bc40831e"
      },
      "source": [
        "Action = dfx_group.loc[['Action'], : ]\n",
        "Action"
      ],
      "execution_count": null,
      "outputs": [
        {
          "output_type": "execute_result",
          "data": {
            "text/html": [
              "<div>\n",
              "<style scoped>\n",
              "    .dataframe tbody tr th:only-of-type {\n",
              "        vertical-align: middle;\n",
              "    }\n",
              "\n",
              "    .dataframe tbody tr th {\n",
              "        vertical-align: top;\n",
              "    }\n",
              "\n",
              "    .dataframe thead th {\n",
              "        text-align: right;\n",
              "    }\n",
              "</style>\n",
              "<table border=\"1\" class=\"dataframe\">\n",
              "  <thead>\n",
              "    <tr style=\"text-align: right;\">\n",
              "      <th></th>\n",
              "      <th></th>\n",
              "      <th>tconst</th>\n",
              "      <th>ordering</th>\n",
              "      <th>category</th>\n",
              "      <th>job</th>\n",
              "      <th>characters</th>\n",
              "    </tr>\n",
              "    <tr>\n",
              "      <th>genres</th>\n",
              "      <th>nconst</th>\n",
              "      <th></th>\n",
              "      <th></th>\n",
              "      <th></th>\n",
              "      <th></th>\n",
              "      <th></th>\n",
              "    </tr>\n",
              "  </thead>\n",
              "  <tbody>\n",
              "    <tr>\n",
              "      <th rowspan=\"11\" valign=\"top\">Action</th>\n",
              "      <th>nm0000170</th>\n",
              "      <td>1</td>\n",
              "      <td>1</td>\n",
              "      <td>1</td>\n",
              "      <td>1</td>\n",
              "      <td>1</td>\n",
              "    </tr>\n",
              "    <tr>\n",
              "      <th>nm0000179</th>\n",
              "      <td>1</td>\n",
              "      <td>1</td>\n",
              "      <td>1</td>\n",
              "      <td>1</td>\n",
              "      <td>1</td>\n",
              "    </tr>\n",
              "    <tr>\n",
              "      <th>nm0000191</th>\n",
              "      <td>2</td>\n",
              "      <td>2</td>\n",
              "      <td>2</td>\n",
              "      <td>2</td>\n",
              "      <td>2</td>\n",
              "    </tr>\n",
              "    <tr>\n",
              "      <th>nm0000202</th>\n",
              "      <td>1</td>\n",
              "      <td>1</td>\n",
              "      <td>1</td>\n",
              "      <td>1</td>\n",
              "      <td>1</td>\n",
              "    </tr>\n",
              "    <tr>\n",
              "      <th>nm0000204</th>\n",
              "      <td>2</td>\n",
              "      <td>2</td>\n",
              "      <td>2</td>\n",
              "      <td>2</td>\n",
              "      <td>2</td>\n",
              "    </tr>\n",
              "    <tr>\n",
              "      <th>...</th>\n",
              "      <td>...</td>\n",
              "      <td>...</td>\n",
              "      <td>...</td>\n",
              "      <td>...</td>\n",
              "      <td>...</td>\n",
              "    </tr>\n",
              "    <tr>\n",
              "      <th>nm7360585</th>\n",
              "      <td>1</td>\n",
              "      <td>1</td>\n",
              "      <td>1</td>\n",
              "      <td>1</td>\n",
              "      <td>1</td>\n",
              "    </tr>\n",
              "    <tr>\n",
              "      <th>nm7372570</th>\n",
              "      <td>2</td>\n",
              "      <td>2</td>\n",
              "      <td>2</td>\n",
              "      <td>2</td>\n",
              "      <td>2</td>\n",
              "    </tr>\n",
              "    <tr>\n",
              "      <th>nm7570226</th>\n",
              "      <td>1</td>\n",
              "      <td>1</td>\n",
              "      <td>1</td>\n",
              "      <td>1</td>\n",
              "      <td>1</td>\n",
              "    </tr>\n",
              "    <tr>\n",
              "      <th>nm8087714</th>\n",
              "      <td>1</td>\n",
              "      <td>1</td>\n",
              "      <td>1</td>\n",
              "      <td>1</td>\n",
              "      <td>1</td>\n",
              "    </tr>\n",
              "    <tr>\n",
              "      <th>nm9561903</th>\n",
              "      <td>1</td>\n",
              "      <td>1</td>\n",
              "      <td>1</td>\n",
              "      <td>1</td>\n",
              "      <td>1</td>\n",
              "    </tr>\n",
              "  </tbody>\n",
              "</table>\n",
              "<p>992 rows × 5 columns</p>\n",
              "</div>"
            ],
            "text/plain": [
              "                  tconst  ordering  category  job  characters\n",
              "genres nconst                                                \n",
              "Action nm0000170       1         1         1    1           1\n",
              "       nm0000179       1         1         1    1           1\n",
              "       nm0000191       2         2         2    2           2\n",
              "       nm0000202       1         1         1    1           1\n",
              "       nm0000204       2         2         2    2           2\n",
              "...                  ...       ...       ...  ...         ...\n",
              "       nm7360585       1         1         1    1           1\n",
              "       nm7372570       2         2         2    2           2\n",
              "       nm7570226       1         1         1    1           1\n",
              "       nm8087714       1         1         1    1           1\n",
              "       nm9561903       1         1         1    1           1\n",
              "\n",
              "[992 rows x 5 columns]"
            ]
          },
          "metadata": {
            "tags": []
          },
          "execution_count": 174
        }
      ]
    },
    {
      "cell_type": "code",
      "metadata": {
        "id": "t4MB0rZhnWol",
        "colab_type": "code",
        "colab": {
          "base_uri": "https://localhost:8080/",
          "height": 34
        },
        "outputId": "1eaf9950-4b45-4dfa-d1cb-da2263e310f5"
      },
      "source": [
        "Action.count().unique()"
      ],
      "execution_count": null,
      "outputs": [
        {
          "output_type": "execute_result",
          "data": {
            "text/plain": [
              "array([992])"
            ]
          },
          "metadata": {
            "tags": []
          },
          "execution_count": 175
        }
      ]
    },
    {
      "cell_type": "code",
      "metadata": {
        "id": "5bddjMn-tpUZ",
        "colab_type": "code",
        "colab": {
          "base_uri": "https://localhost:8080/",
          "height": 34
        },
        "outputId": "cb970d45-43ca-4167-9f51-277393abb0d7"
      },
      "source": [
        "print('มีนักแสดงทั้งหมด 992 คนที่เคยแสดงภาพยนต์ Action')"
      ],
      "execution_count": null,
      "outputs": [
        {
          "output_type": "stream",
          "text": [
            "มีนักแสดงทั้งหมด 992 คนที่เคยแสดงภาพยนต์ Action\n"
          ],
          "name": "stdout"
        }
      ]
    },
    {
      "cell_type": "markdown",
      "metadata": {
        "id": "Hi5YsW-wTL4y",
        "colab_type": "text"
      },
      "source": [
        "# 5. มีนักแสดงกี่คนที่แสดงในภาพยนตร์มากกว่า 1 ประเภท"
      ]
    },
    {
      "cell_type": "code",
      "metadata": {
        "id": "5F9fYx3wA9h0",
        "colab_type": "code",
        "colab": {}
      },
      "source": [
        "#solution\n",
        "dfx_join[['nconst', 'genres']]"
      ],
      "execution_count": null,
      "outputs": []
    },
    {
      "cell_type": "code",
      "metadata": {
        "id": "rPUhroPv_f1S",
        "colab_type": "code",
        "colab": {
          "base_uri": "https://localhost:8080/",
          "height": 402
        },
        "outputId": "c0ddd81d-dddf-49e2-8323-ae685f824af2"
      },
      "source": [
        "dfx_joinx = dfx_join.fillna(0)\n",
        "dfx_joinx"
      ],
      "execution_count": null,
      "outputs": [
        {
          "output_type": "execute_result",
          "data": {
            "text/html": [
              "<div>\n",
              "<style scoped>\n",
              "    .dataframe tbody tr th:only-of-type {\n",
              "        vertical-align: middle;\n",
              "    }\n",
              "\n",
              "    .dataframe tbody tr th {\n",
              "        vertical-align: top;\n",
              "    }\n",
              "\n",
              "    .dataframe thead th {\n",
              "        text-align: right;\n",
              "    }\n",
              "</style>\n",
              "<table border=\"1\" class=\"dataframe\">\n",
              "  <thead>\n",
              "    <tr style=\"text-align: right;\">\n",
              "      <th></th>\n",
              "      <th>tconst</th>\n",
              "      <th>ordering</th>\n",
              "      <th>nconst</th>\n",
              "      <th>category</th>\n",
              "      <th>job</th>\n",
              "      <th>characters</th>\n",
              "      <th>genres</th>\n",
              "    </tr>\n",
              "  </thead>\n",
              "  <tbody>\n",
              "    <tr>\n",
              "      <th>0</th>\n",
              "      <td>tt0099462</td>\n",
              "      <td>1.0</td>\n",
              "      <td>nm0000433</td>\n",
              "      <td>actor</td>\n",
              "      <td>\\N</td>\n",
              "      <td>[\"Barry Davis\"]</td>\n",
              "      <td>Action</td>\n",
              "    </tr>\n",
              "    <tr>\n",
              "      <th>1</th>\n",
              "      <td>tt0099462</td>\n",
              "      <td>1.0</td>\n",
              "      <td>nm0000433</td>\n",
              "      <td>actor</td>\n",
              "      <td>\\N</td>\n",
              "      <td>[\"Barry Davis\"]</td>\n",
              "      <td>Comedy</td>\n",
              "    </tr>\n",
              "    <tr>\n",
              "      <th>2</th>\n",
              "      <td>tt0099462</td>\n",
              "      <td>1.0</td>\n",
              "      <td>nm0000433</td>\n",
              "      <td>actor</td>\n",
              "      <td>\\N</td>\n",
              "      <td>[\"Barry Davis\"]</td>\n",
              "      <td>Crime</td>\n",
              "    </tr>\n",
              "    <tr>\n",
              "      <th>3</th>\n",
              "      <td>tt0101281</td>\n",
              "      <td>2.0</td>\n",
              "      <td>nm0253327</td>\n",
              "      <td>actor</td>\n",
              "      <td>\\N</td>\n",
              "      <td>[\"Dag Sjöborg\"]</td>\n",
              "      <td>Mystery</td>\n",
              "    </tr>\n",
              "    <tr>\n",
              "      <th>4</th>\n",
              "      <td>tt0101301</td>\n",
              "      <td>3.0</td>\n",
              "      <td>nm0256121</td>\n",
              "      <td>actor</td>\n",
              "      <td>\\N</td>\n",
              "      <td>[\"Ethan O'Fallon\"]</td>\n",
              "      <td>Comedy</td>\n",
              "    </tr>\n",
              "    <tr>\n",
              "      <th>...</th>\n",
              "      <td>...</td>\n",
              "      <td>...</td>\n",
              "      <td>...</td>\n",
              "      <td>...</td>\n",
              "      <td>...</td>\n",
              "      <td>...</td>\n",
              "      <td>...</td>\n",
              "    </tr>\n",
              "    <tr>\n",
              "      <th>17544</th>\n",
              "      <td>tt2115379</td>\n",
              "      <td>0.0</td>\n",
              "      <td>0</td>\n",
              "      <td>0</td>\n",
              "      <td>0</td>\n",
              "      <td>0</td>\n",
              "      <td>Drama</td>\n",
              "    </tr>\n",
              "    <tr>\n",
              "      <th>17545</th>\n",
              "      <td>tt6338126</td>\n",
              "      <td>0.0</td>\n",
              "      <td>0</td>\n",
              "      <td>0</td>\n",
              "      <td>0</td>\n",
              "      <td>0</td>\n",
              "      <td>Documentary</td>\n",
              "    </tr>\n",
              "    <tr>\n",
              "      <th>17546</th>\n",
              "      <td>tt1339268</td>\n",
              "      <td>0.0</td>\n",
              "      <td>0</td>\n",
              "      <td>0</td>\n",
              "      <td>0</td>\n",
              "      <td>0</td>\n",
              "      <td>Comedy</td>\n",
              "    </tr>\n",
              "    <tr>\n",
              "      <th>17547</th>\n",
              "      <td>tt1339268</td>\n",
              "      <td>0.0</td>\n",
              "      <td>0</td>\n",
              "      <td>0</td>\n",
              "      <td>0</td>\n",
              "      <td>0</td>\n",
              "      <td>Drama</td>\n",
              "    </tr>\n",
              "    <tr>\n",
              "      <th>17548</th>\n",
              "      <td>tt1310674</td>\n",
              "      <td>0.0</td>\n",
              "      <td>0</td>\n",
              "      <td>0</td>\n",
              "      <td>0</td>\n",
              "      <td>0</td>\n",
              "      <td>Documentary</td>\n",
              "    </tr>\n",
              "  </tbody>\n",
              "</table>\n",
              "<p>17549 rows × 7 columns</p>\n",
              "</div>"
            ],
            "text/plain": [
              "          tconst  ordering     nconst  ... job          characters       genres\n",
              "0      tt0099462       1.0  nm0000433  ...  \\N     [\"Barry Davis\"]       Action\n",
              "1      tt0099462       1.0  nm0000433  ...  \\N     [\"Barry Davis\"]       Comedy\n",
              "2      tt0099462       1.0  nm0000433  ...  \\N     [\"Barry Davis\"]        Crime\n",
              "3      tt0101281       2.0  nm0253327  ...  \\N     [\"Dag Sjöborg\"]      Mystery\n",
              "4      tt0101301       3.0  nm0256121  ...  \\N  [\"Ethan O'Fallon\"]       Comedy\n",
              "...          ...       ...        ...  ...  ..                 ...          ...\n",
              "17544  tt2115379       0.0          0  ...   0                   0        Drama\n",
              "17545  tt6338126       0.0          0  ...   0                   0  Documentary\n",
              "17546  tt1339268       0.0          0  ...   0                   0       Comedy\n",
              "17547  tt1339268       0.0          0  ...   0                   0        Drama\n",
              "17548  tt1310674       0.0          0  ...   0                   0  Documentary\n",
              "\n",
              "[17549 rows x 7 columns]"
            ]
          },
          "metadata": {
            "tags": []
          },
          "execution_count": 195
        }
      ]
    },
    {
      "cell_type": "code",
      "metadata": {
        "id": "2mr9BWg7BN2h",
        "colab_type": "code",
        "colab": {
          "base_uri": "https://localhost:8080/",
          "height": 402
        },
        "outputId": "f8800185-ec6a-45e5-94f2-6acb5dbdaaea"
      },
      "source": [
        "dfx_joinx2 = dfx_joinx.loc[(dfx_joinx['category']=='actor') | (dfx_joinx['category']=='actress')]\n",
        "dfx_joinx2"
      ],
      "execution_count": null,
      "outputs": [
        {
          "output_type": "execute_result",
          "data": {
            "text/html": [
              "<div>\n",
              "<style scoped>\n",
              "    .dataframe tbody tr th:only-of-type {\n",
              "        vertical-align: middle;\n",
              "    }\n",
              "\n",
              "    .dataframe tbody tr th {\n",
              "        vertical-align: top;\n",
              "    }\n",
              "\n",
              "    .dataframe thead th {\n",
              "        text-align: right;\n",
              "    }\n",
              "</style>\n",
              "<table border=\"1\" class=\"dataframe\">\n",
              "  <thead>\n",
              "    <tr style=\"text-align: right;\">\n",
              "      <th></th>\n",
              "      <th>tconst</th>\n",
              "      <th>ordering</th>\n",
              "      <th>nconst</th>\n",
              "      <th>category</th>\n",
              "      <th>job</th>\n",
              "      <th>characters</th>\n",
              "      <th>genres</th>\n",
              "    </tr>\n",
              "  </thead>\n",
              "  <tbody>\n",
              "    <tr>\n",
              "      <th>0</th>\n",
              "      <td>tt0099462</td>\n",
              "      <td>1.0</td>\n",
              "      <td>nm0000433</td>\n",
              "      <td>actor</td>\n",
              "      <td>\\N</td>\n",
              "      <td>[\"Barry Davis\"]</td>\n",
              "      <td>Action</td>\n",
              "    </tr>\n",
              "    <tr>\n",
              "      <th>1</th>\n",
              "      <td>tt0099462</td>\n",
              "      <td>1.0</td>\n",
              "      <td>nm0000433</td>\n",
              "      <td>actor</td>\n",
              "      <td>\\N</td>\n",
              "      <td>[\"Barry Davis\"]</td>\n",
              "      <td>Comedy</td>\n",
              "    </tr>\n",
              "    <tr>\n",
              "      <th>2</th>\n",
              "      <td>tt0099462</td>\n",
              "      <td>1.0</td>\n",
              "      <td>nm0000433</td>\n",
              "      <td>actor</td>\n",
              "      <td>\\N</td>\n",
              "      <td>[\"Barry Davis\"]</td>\n",
              "      <td>Crime</td>\n",
              "    </tr>\n",
              "    <tr>\n",
              "      <th>3</th>\n",
              "      <td>tt0101281</td>\n",
              "      <td>2.0</td>\n",
              "      <td>nm0253327</td>\n",
              "      <td>actor</td>\n",
              "      <td>\\N</td>\n",
              "      <td>[\"Dag Sjöborg\"]</td>\n",
              "      <td>Mystery</td>\n",
              "    </tr>\n",
              "    <tr>\n",
              "      <th>4</th>\n",
              "      <td>tt0101301</td>\n",
              "      <td>3.0</td>\n",
              "      <td>nm0256121</td>\n",
              "      <td>actor</td>\n",
              "      <td>\\N</td>\n",
              "      <td>[\"Ethan O'Fallon\"]</td>\n",
              "      <td>Comedy</td>\n",
              "    </tr>\n",
              "    <tr>\n",
              "      <th>...</th>\n",
              "      <td>...</td>\n",
              "      <td>...</td>\n",
              "      <td>...</td>\n",
              "      <td>...</td>\n",
              "      <td>...</td>\n",
              "      <td>...</td>\n",
              "      <td>...</td>\n",
              "    </tr>\n",
              "    <tr>\n",
              "      <th>16431</th>\n",
              "      <td>tt9916428</td>\n",
              "      <td>6.0</td>\n",
              "      <td>nm8680851</td>\n",
              "      <td>actor</td>\n",
              "      <td>\\N</td>\n",
              "      <td>[\"Powell Editor-in-chief of US newspaper\"]</td>\n",
              "      <td>History</td>\n",
              "    </tr>\n",
              "    <tr>\n",
              "      <th>16432</th>\n",
              "      <td>tt9916428</td>\n",
              "      <td>6.0</td>\n",
              "      <td>nm8680851</td>\n",
              "      <td>actor</td>\n",
              "      <td>\\N</td>\n",
              "      <td>[\"Powell Editor-in-chief of US newspaper\"]</td>\n",
              "      <td>War</td>\n",
              "    </tr>\n",
              "    <tr>\n",
              "      <th>16433</th>\n",
              "      <td>tt9916428</td>\n",
              "      <td>8.0</td>\n",
              "      <td>nm3370295</td>\n",
              "      <td>actor</td>\n",
              "      <td>\\N</td>\n",
              "      <td>[\"Train Station Manager\"]</td>\n",
              "      <td>Adventure</td>\n",
              "    </tr>\n",
              "    <tr>\n",
              "      <th>16434</th>\n",
              "      <td>tt9916428</td>\n",
              "      <td>8.0</td>\n",
              "      <td>nm3370295</td>\n",
              "      <td>actor</td>\n",
              "      <td>\\N</td>\n",
              "      <td>[\"Train Station Manager\"]</td>\n",
              "      <td>History</td>\n",
              "    </tr>\n",
              "    <tr>\n",
              "      <th>16435</th>\n",
              "      <td>tt9916428</td>\n",
              "      <td>8.0</td>\n",
              "      <td>nm3370295</td>\n",
              "      <td>actor</td>\n",
              "      <td>\\N</td>\n",
              "      <td>[\"Train Station Manager\"]</td>\n",
              "      <td>War</td>\n",
              "    </tr>\n",
              "  </tbody>\n",
              "</table>\n",
              "<p>16436 rows × 7 columns</p>\n",
              "</div>"
            ],
            "text/plain": [
              "          tconst  ...     genres\n",
              "0      tt0099462  ...     Action\n",
              "1      tt0099462  ...     Comedy\n",
              "2      tt0099462  ...      Crime\n",
              "3      tt0101281  ...    Mystery\n",
              "4      tt0101301  ...     Comedy\n",
              "...          ...  ...        ...\n",
              "16431  tt9916428  ...    History\n",
              "16432  tt9916428  ...        War\n",
              "16433  tt9916428  ...  Adventure\n",
              "16434  tt9916428  ...    History\n",
              "16435  tt9916428  ...        War\n",
              "\n",
              "[16436 rows x 7 columns]"
            ]
          },
          "metadata": {
            "tags": []
          },
          "execution_count": 199
        }
      ]
    },
    {
      "cell_type": "code",
      "metadata": {
        "id": "htpjGzXmDDjT",
        "colab_type": "code",
        "colab": {
          "base_uri": "https://localhost:8080/",
          "height": 431
        },
        "outputId": "2682b831-3e4a-419f-ff36-de23bcf4e9eb"
      },
      "source": [
        "result = dfx_joinx2.groupby(['nconst']).count().genres\n",
        "resultx = result.to_frame(name='amount')\n",
        "resultx"
      ],
      "execution_count": null,
      "outputs": [
        {
          "output_type": "execute_result",
          "data": {
            "text/html": [
              "<div>\n",
              "<style scoped>\n",
              "    .dataframe tbody tr th:only-of-type {\n",
              "        vertical-align: middle;\n",
              "    }\n",
              "\n",
              "    .dataframe tbody tr th {\n",
              "        vertical-align: top;\n",
              "    }\n",
              "\n",
              "    .dataframe thead th {\n",
              "        text-align: right;\n",
              "    }\n",
              "</style>\n",
              "<table border=\"1\" class=\"dataframe\">\n",
              "  <thead>\n",
              "    <tr style=\"text-align: right;\">\n",
              "      <th></th>\n",
              "      <th>amount</th>\n",
              "    </tr>\n",
              "    <tr>\n",
              "      <th>nconst</th>\n",
              "      <th></th>\n",
              "    </tr>\n",
              "  </thead>\n",
              "  <tbody>\n",
              "    <tr>\n",
              "      <th>nm0000103</th>\n",
              "      <td>4</td>\n",
              "    </tr>\n",
              "    <tr>\n",
              "      <th>nm0000106</th>\n",
              "      <td>3</td>\n",
              "    </tr>\n",
              "    <tr>\n",
              "      <th>nm0000117</th>\n",
              "      <td>2</td>\n",
              "    </tr>\n",
              "    <tr>\n",
              "      <th>nm0000132</th>\n",
              "      <td>11</td>\n",
              "    </tr>\n",
              "    <tr>\n",
              "      <th>nm0000138</th>\n",
              "      <td>5</td>\n",
              "    </tr>\n",
              "    <tr>\n",
              "      <th>...</th>\n",
              "      <td>...</td>\n",
              "    </tr>\n",
              "    <tr>\n",
              "      <th>nm9503925</th>\n",
              "      <td>1</td>\n",
              "    </tr>\n",
              "    <tr>\n",
              "      <th>nm9526612</th>\n",
              "      <td>2</td>\n",
              "    </tr>\n",
              "    <tr>\n",
              "      <th>nm9561903</th>\n",
              "      <td>4</td>\n",
              "    </tr>\n",
              "    <tr>\n",
              "      <th>nm9824219</th>\n",
              "      <td>1</td>\n",
              "    </tr>\n",
              "    <tr>\n",
              "      <th>nm9979083</th>\n",
              "      <td>1</td>\n",
              "    </tr>\n",
              "  </tbody>\n",
              "</table>\n",
              "<p>6733 rows × 1 columns</p>\n",
              "</div>"
            ],
            "text/plain": [
              "           amount\n",
              "nconst           \n",
              "nm0000103       4\n",
              "nm0000106       3\n",
              "nm0000117       2\n",
              "nm0000132      11\n",
              "nm0000138       5\n",
              "...           ...\n",
              "nm9503925       1\n",
              "nm9526612       2\n",
              "nm9561903       4\n",
              "nm9824219       1\n",
              "nm9979083       1\n",
              "\n",
              "[6733 rows x 1 columns]"
            ]
          },
          "metadata": {
            "tags": []
          },
          "execution_count": 224
        }
      ]
    },
    {
      "cell_type": "code",
      "metadata": {
        "id": "IFOoHDcEFMMg",
        "colab_type": "code",
        "colab": {}
      },
      "source": [
        "ans5 = resultx.loc[(resultx['amount'] > 1)]"
      ],
      "execution_count": null,
      "outputs": []
    },
    {
      "cell_type": "code",
      "metadata": {
        "id": "PMGhkvjwFrm3",
        "colab_type": "code",
        "colab": {
          "base_uri": "https://localhost:8080/",
          "height": 34
        },
        "outputId": "8739ffd2-92c1-4509-f8b1-5852000e6606"
      },
      "source": [
        "print('มีนักแสดงที่แสดงในภาพยนต์มากกว่า 1 ประเภททั้งหมด', format(ans5['amount'].count()), 'คน')"
      ],
      "execution_count": null,
      "outputs": [
        {
          "output_type": "stream",
          "text": [
            "มีนักแสดงที่แสดงในภาพยนต์มากกว่า 1 ประเภททั้งหมด 4144 คน\n"
          ],
          "name": "stdout"
        }
      ]
    },
    {
      "cell_type": "markdown",
      "metadata": {
        "id": "oBfgEXHF27S1",
        "colab_type": "text"
      },
      "source": [
        "#6. มีภาพยนตร์ทั้งหมดกี่เรื่องที่เข้าฉายในปีอธิกสุรทิน\n"
      ]
    },
    {
      "cell_type": "code",
      "metadata": {
        "id": "W2ulnz7JBA83",
        "colab_type": "code",
        "colab": {
          "base_uri": "https://localhost:8080/",
          "height": 136
        },
        "outputId": "fe232ce4-7e31-41df-a656-54ce4ec88332"
      },
      "source": [
        "#solution\n",
        "startyear = title[['startYear','primaryTitle']]\n",
        "startyear.head(3)"
      ],
      "execution_count": null,
      "outputs": [
        {
          "output_type": "execute_result",
          "data": {
            "text/html": [
              "<div>\n",
              "<style scoped>\n",
              "    .dataframe tbody tr th:only-of-type {\n",
              "        vertical-align: middle;\n",
              "    }\n",
              "\n",
              "    .dataframe tbody tr th {\n",
              "        vertical-align: top;\n",
              "    }\n",
              "\n",
              "    .dataframe thead th {\n",
              "        text-align: right;\n",
              "    }\n",
              "</style>\n",
              "<table border=\"1\" class=\"dataframe\">\n",
              "  <thead>\n",
              "    <tr style=\"text-align: right;\">\n",
              "      <th></th>\n",
              "      <th>startYear</th>\n",
              "      <th>primaryTitle</th>\n",
              "    </tr>\n",
              "  </thead>\n",
              "  <tbody>\n",
              "    <tr>\n",
              "      <th>0</th>\n",
              "      <td>2002</td>\n",
              "      <td>While Supplies Last</td>\n",
              "    </tr>\n",
              "    <tr>\n",
              "      <th>1</th>\n",
              "      <td>2017</td>\n",
              "      <td>Electric Heart</td>\n",
              "    </tr>\n",
              "    <tr>\n",
              "      <th>2</th>\n",
              "      <td>2016</td>\n",
              "      <td>Rain Doll</td>\n",
              "    </tr>\n",
              "  </tbody>\n",
              "</table>\n",
              "</div>"
            ],
            "text/plain": [
              "   startYear         primaryTitle\n",
              "0       2002  While Supplies Last\n",
              "1       2017       Electric Heart\n",
              "2       2016            Rain Doll"
            ]
          },
          "metadata": {
            "tags": []
          },
          "execution_count": 234
        }
      ]
    },
    {
      "cell_type": "code",
      "metadata": {
        "id": "gTLADFBDKmd1",
        "colab_type": "code",
        "colab": {
          "base_uri": "https://localhost:8080/",
          "height": 502
        },
        "outputId": "25759e8e-85af-4fd9-b0b7-72be90be7515"
      },
      "source": [
        "import calendar\n",
        "\n",
        "startyear['is_leap'] = startyear['startYear'].apply(lambda e: calendar.isleap(e))\n",
        "startyear"
      ],
      "execution_count": null,
      "outputs": [
        {
          "output_type": "stream",
          "text": [
            "/usr/local/lib/python3.6/dist-packages/ipykernel_launcher.py:3: SettingWithCopyWarning: \n",
            "A value is trying to be set on a copy of a slice from a DataFrame.\n",
            "Try using .loc[row_indexer,col_indexer] = value instead\n",
            "\n",
            "See the caveats in the documentation: https://pandas.pydata.org/pandas-docs/stable/user_guide/indexing.html#returning-a-view-versus-a-copy\n",
            "  This is separate from the ipykernel package so we can avoid doing imports until\n"
          ],
          "name": "stderr"
        },
        {
          "output_type": "execute_result",
          "data": {
            "text/html": [
              "<div>\n",
              "<style scoped>\n",
              "    .dataframe tbody tr th:only-of-type {\n",
              "        vertical-align: middle;\n",
              "    }\n",
              "\n",
              "    .dataframe tbody tr th {\n",
              "        vertical-align: top;\n",
              "    }\n",
              "\n",
              "    .dataframe thead th {\n",
              "        text-align: right;\n",
              "    }\n",
              "</style>\n",
              "<table border=\"1\" class=\"dataframe\">\n",
              "  <thead>\n",
              "    <tr style=\"text-align: right;\">\n",
              "      <th></th>\n",
              "      <th>startYear</th>\n",
              "      <th>primaryTitle</th>\n",
              "      <th>is_leap</th>\n",
              "    </tr>\n",
              "  </thead>\n",
              "  <tbody>\n",
              "    <tr>\n",
              "      <th>0</th>\n",
              "      <td>2002</td>\n",
              "      <td>While Supplies Last</td>\n",
              "      <td>False</td>\n",
              "    </tr>\n",
              "    <tr>\n",
              "      <th>1</th>\n",
              "      <td>2017</td>\n",
              "      <td>Electric Heart</td>\n",
              "      <td>False</td>\n",
              "    </tr>\n",
              "    <tr>\n",
              "      <th>2</th>\n",
              "      <td>2016</td>\n",
              "      <td>Rain Doll</td>\n",
              "      <td>True</td>\n",
              "    </tr>\n",
              "    <tr>\n",
              "      <th>3</th>\n",
              "      <td>2017</td>\n",
              "      <td>The Blessed Ones</td>\n",
              "      <td>False</td>\n",
              "    </tr>\n",
              "    <tr>\n",
              "      <th>4</th>\n",
              "      <td>2010</td>\n",
              "      <td>Golmaal 3</td>\n",
              "      <td>False</td>\n",
              "    </tr>\n",
              "    <tr>\n",
              "      <th>...</th>\n",
              "      <td>...</td>\n",
              "      <td>...</td>\n",
              "      <td>...</td>\n",
              "    </tr>\n",
              "    <tr>\n",
              "      <th>6288</th>\n",
              "      <td>2016</td>\n",
              "      <td>ARQ</td>\n",
              "      <td>True</td>\n",
              "    </tr>\n",
              "    <tr>\n",
              "      <th>6289</th>\n",
              "      <td>2004</td>\n",
              "      <td>Mission Mumbai</td>\n",
              "      <td>True</td>\n",
              "    </tr>\n",
              "    <tr>\n",
              "      <th>6290</th>\n",
              "      <td>2008</td>\n",
              "      <td>Vashti Bunyan: From Here to Before</td>\n",
              "      <td>True</td>\n",
              "    </tr>\n",
              "    <tr>\n",
              "      <th>6291</th>\n",
              "      <td>1994</td>\n",
              "      <td>Casa d'appuntamento... puttana dalla testa ai ...</td>\n",
              "      <td>False</td>\n",
              "    </tr>\n",
              "    <tr>\n",
              "      <th>6292</th>\n",
              "      <td>2009</td>\n",
              "      <td>7 Deadly Sins: Inside the Ecomm Cult</td>\n",
              "      <td>False</td>\n",
              "    </tr>\n",
              "  </tbody>\n",
              "</table>\n",
              "<p>6293 rows × 3 columns</p>\n",
              "</div>"
            ],
            "text/plain": [
              "      startYear                                       primaryTitle  is_leap\n",
              "0          2002                                While Supplies Last    False\n",
              "1          2017                                     Electric Heart    False\n",
              "2          2016                                          Rain Doll     True\n",
              "3          2017                                   The Blessed Ones    False\n",
              "4          2010                                          Golmaal 3    False\n",
              "...         ...                                                ...      ...\n",
              "6288       2016                                                ARQ     True\n",
              "6289       2004                                     Mission Mumbai     True\n",
              "6290       2008                 Vashti Bunyan: From Here to Before     True\n",
              "6291       1994  Casa d'appuntamento... puttana dalla testa ai ...    False\n",
              "6292       2009               7 Deadly Sins: Inside the Ecomm Cult    False\n",
              "\n",
              "[6293 rows x 3 columns]"
            ]
          },
          "metadata": {
            "tags": []
          },
          "execution_count": 244
        }
      ]
    },
    {
      "cell_type": "code",
      "metadata": {
        "id": "YjST2vHROL_U",
        "colab_type": "code",
        "colab": {}
      },
      "source": [
        "ans6 = startyear['primaryTitle'].loc[(startyear['is_leap'] == True)].count()"
      ],
      "execution_count": null,
      "outputs": []
    },
    {
      "cell_type": "code",
      "metadata": {
        "id": "x7mp3z1aPbD6",
        "colab_type": "code",
        "colab": {
          "base_uri": "https://localhost:8080/",
          "height": 34
        },
        "outputId": "9b4f64f9-8bf6-4b8f-df6a-3fa5109fdc6c"
      },
      "source": [
        "print('มีภาพยนต์ทั้งหมด', ans6, 'เรื่อง ที่เข้าฉายในปีอธิกสุรทิน')"
      ],
      "execution_count": null,
      "outputs": [
        {
          "output_type": "stream",
          "text": [
            "มีภาพยนต์ทั้งหมด 1504 เรื่อง ที่เข้าฉายในปีอธิกสุรทิน\n"
          ],
          "name": "stdout"
        }
      ]
    },
    {
      "cell_type": "markdown",
      "metadata": {
        "id": "UUv4xcj6Gj0Q",
        "colab_type": "text"
      },
      "source": [
        "#7. มีผู้กำกับกี่คนที่เป็นนักแสดงด้วย"
      ]
    },
    {
      "cell_type": "code",
      "metadata": {
        "id": "ZbT3eO6GqPB8",
        "colab_type": "code",
        "colab": {
          "base_uri": "https://localhost:8080/",
          "height": 34
        },
        "outputId": "f7cae8c9-b8df-4f94-922b-f938e75fe373"
      },
      "source": [
        "condition_1 = star['primaryProfession'].str.contains('director')\n",
        "condition_2 = star['primaryProfession'].str.contains('actor')\n",
        "condition_3 = star['primaryProfession'].str.contains('director')\n",
        "condition_4 = star['primaryProfession'].str.contains('actress')\n",
        "ans7 = star[(condition_1) & (condition_2)|(condition_3) & (condition_4)]['primaryProfession'].count()\n",
        "ans7"
      ],
      "execution_count": null,
      "outputs": [
        {
          "output_type": "execute_result",
          "data": {
            "text/plain": [
              "1424"
            ]
          },
          "metadata": {
            "tags": []
          },
          "execution_count": 323
        }
      ]
    },
    {
      "cell_type": "code",
      "metadata": {
        "id": "wYhnuo-Rtnz3",
        "colab_type": "code",
        "colab": {
          "base_uri": "https://localhost:8080/",
          "height": 34
        },
        "outputId": "943e43de-123b-45c1-b558-f31d2f4acf03"
      },
      "source": [
        "print('มีผู้กำกับทั้งหมด', ans7,'คนที่เป็นนักแสดงด้วย')"
      ],
      "execution_count": null,
      "outputs": [
        {
          "output_type": "stream",
          "text": [
            "มีผู้กำกับทั้งหมด 1424 คนที่เป็นนักแสดงด้วย\n"
          ],
          "name": "stdout"
        }
      ]
    },
    {
      "cell_type": "markdown",
      "metadata": {
        "id": "BfNuCFFfLU9i",
        "colab_type": "text"
      },
      "source": [
        "#8. หาจำนวนภาพยนต์แนวรอมคอมในแต่ละปี พร้อมพล็อตกราฟ(นับเฉพาะปีที่มีตั้งแต่ 1 เรื่องขึ้นไป)\n"
      ]
    },
    {
      "cell_type": "code",
      "metadata": {
        "id": "H2kuSw2KuVrJ",
        "colab_type": "code",
        "colab": {
          "base_uri": "https://localhost:8080/",
          "height": 402
        },
        "outputId": "f34e4550-0633-4ccd-d2e1-203640865ecc"
      },
      "source": [
        "condition_1 = title['genres'].str.contains('Comedy')\n",
        "condition_2 = title['genres'].str.contains('Romance')\n",
        "titlex = title[(condition_1) & (condition_2)]\n",
        "titlex"
      ],
      "execution_count": null,
      "outputs": [
        {
          "output_type": "execute_result",
          "data": {
            "text/html": [
              "<div>\n",
              "<style scoped>\n",
              "    .dataframe tbody tr th:only-of-type {\n",
              "        vertical-align: middle;\n",
              "    }\n",
              "\n",
              "    .dataframe tbody tr th {\n",
              "        vertical-align: top;\n",
              "    }\n",
              "\n",
              "    .dataframe thead th {\n",
              "        text-align: right;\n",
              "    }\n",
              "</style>\n",
              "<table border=\"1\" class=\"dataframe\">\n",
              "  <thead>\n",
              "    <tr style=\"text-align: right;\">\n",
              "      <th></th>\n",
              "      <th>tconst</th>\n",
              "      <th>titleType</th>\n",
              "      <th>primaryTitle</th>\n",
              "      <th>originalTitle</th>\n",
              "      <th>isAdult</th>\n",
              "      <th>startYear</th>\n",
              "      <th>endYear</th>\n",
              "      <th>runtimeMinutes</th>\n",
              "      <th>genres</th>\n",
              "    </tr>\n",
              "  </thead>\n",
              "  <tbody>\n",
              "    <tr>\n",
              "      <th>29</th>\n",
              "      <td>tt5176494</td>\n",
              "      <td>movie</td>\n",
              "      <td>The Last Beautiful Girl</td>\n",
              "      <td>The Last Beautiful Girl</td>\n",
              "      <td>0</td>\n",
              "      <td>2016</td>\n",
              "      <td>\\N</td>\n",
              "      <td>88</td>\n",
              "      <td>Comedy,Drama,Romance</td>\n",
              "    </tr>\n",
              "    <tr>\n",
              "      <th>43</th>\n",
              "      <td>tt0363741</td>\n",
              "      <td>movie</td>\n",
              "      <td>Kilichundan Mampazham</td>\n",
              "      <td>Kilichundan Mampazham</td>\n",
              "      <td>0</td>\n",
              "      <td>2003</td>\n",
              "      <td>\\N</td>\n",
              "      <td>154</td>\n",
              "      <td>Comedy,Romance</td>\n",
              "    </tr>\n",
              "    <tr>\n",
              "      <th>60</th>\n",
              "      <td>tt0102748</td>\n",
              "      <td>movie</td>\n",
              "      <td>Ragazzi</td>\n",
              "      <td>Ragazzi</td>\n",
              "      <td>0</td>\n",
              "      <td>1991</td>\n",
              "      <td>\\N</td>\n",
              "      <td>85</td>\n",
              "      <td>Comedy,Romance</td>\n",
              "    </tr>\n",
              "    <tr>\n",
              "      <th>101</th>\n",
              "      <td>tt3510718</td>\n",
              "      <td>movie</td>\n",
              "      <td>Leading Lady</td>\n",
              "      <td>Leading Lady</td>\n",
              "      <td>0</td>\n",
              "      <td>2014</td>\n",
              "      <td>\\N</td>\n",
              "      <td>100</td>\n",
              "      <td>Comedy,Drama,Romance</td>\n",
              "    </tr>\n",
              "    <tr>\n",
              "      <th>120</th>\n",
              "      <td>tt0308878</td>\n",
              "      <td>movie</td>\n",
              "      <td>The Shape of Things</td>\n",
              "      <td>The Shape of Things</td>\n",
              "      <td>0</td>\n",
              "      <td>2003</td>\n",
              "      <td>\\N</td>\n",
              "      <td>96</td>\n",
              "      <td>Comedy,Drama,Romance</td>\n",
              "    </tr>\n",
              "    <tr>\n",
              "      <th>...</th>\n",
              "      <td>...</td>\n",
              "      <td>...</td>\n",
              "      <td>...</td>\n",
              "      <td>...</td>\n",
              "      <td>...</td>\n",
              "      <td>...</td>\n",
              "      <td>...</td>\n",
              "      <td>...</td>\n",
              "      <td>...</td>\n",
              "    </tr>\n",
              "    <tr>\n",
              "      <th>6214</th>\n",
              "      <td>tt4076164</td>\n",
              "      <td>movie</td>\n",
              "      <td>In the Room</td>\n",
              "      <td>In the Room</td>\n",
              "      <td>0</td>\n",
              "      <td>2015</td>\n",
              "      <td>\\N</td>\n",
              "      <td>104</td>\n",
              "      <td>Comedy,Drama,Romance</td>\n",
              "    </tr>\n",
              "    <tr>\n",
              "      <th>6253</th>\n",
              "      <td>tt2463154</td>\n",
              "      <td>movie</td>\n",
              "      <td>Posthumous</td>\n",
              "      <td>Posthumous</td>\n",
              "      <td>0</td>\n",
              "      <td>2014</td>\n",
              "      <td>\\N</td>\n",
              "      <td>94</td>\n",
              "      <td>Comedy,Drama,Romance</td>\n",
              "    </tr>\n",
              "    <tr>\n",
              "      <th>6260</th>\n",
              "      <td>tt1935881</td>\n",
              "      <td>movie</td>\n",
              "      <td>Semi-Soet</td>\n",
              "      <td>Semi-Soet</td>\n",
              "      <td>0</td>\n",
              "      <td>2012</td>\n",
              "      <td>\\N</td>\n",
              "      <td>107</td>\n",
              "      <td>Comedy,Romance</td>\n",
              "    </tr>\n",
              "    <tr>\n",
              "      <th>6265</th>\n",
              "      <td>tt5362940</td>\n",
              "      <td>movie</td>\n",
              "      <td>Eternal Beauty</td>\n",
              "      <td>Eternal Beauty</td>\n",
              "      <td>0</td>\n",
              "      <td>2019</td>\n",
              "      <td>\\N</td>\n",
              "      <td>95</td>\n",
              "      <td>Comedy,Drama,Romance</td>\n",
              "    </tr>\n",
              "    <tr>\n",
              "      <th>6281</th>\n",
              "      <td>tt5586914</td>\n",
              "      <td>movie</td>\n",
              "      <td>Mood of the Day</td>\n",
              "      <td>Keunalui bonwigi</td>\n",
              "      <td>0</td>\n",
              "      <td>2016</td>\n",
              "      <td>\\N</td>\n",
              "      <td>103</td>\n",
              "      <td>Comedy,Romance</td>\n",
              "    </tr>\n",
              "  </tbody>\n",
              "</table>\n",
              "<p>346 rows × 9 columns</p>\n",
              "</div>"
            ],
            "text/plain": [
              "         tconst titleType  ... runtimeMinutes                genres\n",
              "29    tt5176494     movie  ...             88  Comedy,Drama,Romance\n",
              "43    tt0363741     movie  ...            154        Comedy,Romance\n",
              "60    tt0102748     movie  ...             85        Comedy,Romance\n",
              "101   tt3510718     movie  ...            100  Comedy,Drama,Romance\n",
              "120   tt0308878     movie  ...             96  Comedy,Drama,Romance\n",
              "...         ...       ...  ...            ...                   ...\n",
              "6214  tt4076164     movie  ...            104  Comedy,Drama,Romance\n",
              "6253  tt2463154     movie  ...             94  Comedy,Drama,Romance\n",
              "6260  tt1935881     movie  ...            107        Comedy,Romance\n",
              "6265  tt5362940     movie  ...             95  Comedy,Drama,Romance\n",
              "6281  tt5586914     movie  ...            103        Comedy,Romance\n",
              "\n",
              "[346 rows x 9 columns]"
            ]
          },
          "metadata": {
            "tags": []
          },
          "execution_count": 334
        }
      ]
    },
    {
      "cell_type": "code",
      "metadata": {
        "id": "U_UQIhzgvA1z",
        "colab_type": "code",
        "colab": {
          "base_uri": "https://localhost:8080/",
          "height": 554
        },
        "outputId": "ea590b01-fe13-40cd-d466-4d5aae1b32b5"
      },
      "source": [
        "by_yearx = titlex.groupby(['startYear']).count().tconst\n",
        "by_yearx"
      ],
      "execution_count": null,
      "outputs": [
        {
          "output_type": "execute_result",
          "data": {
            "text/plain": [
              "startYear\n",
              "1991     3\n",
              "1992     2\n",
              "1993     3\n",
              "1994     1\n",
              "1995     4\n",
              "1996     8\n",
              "1997     3\n",
              "1998    13\n",
              "1999     8\n",
              "2000     8\n",
              "2001     7\n",
              "2002    15\n",
              "2003     9\n",
              "2004     8\n",
              "2005    15\n",
              "2006    13\n",
              "2007    15\n",
              "2008     9\n",
              "2009    10\n",
              "2010    25\n",
              "2011    24\n",
              "2012    18\n",
              "2013    14\n",
              "2014    24\n",
              "2015    21\n",
              "2016    22\n",
              "2017    10\n",
              "2018    14\n",
              "2019    15\n",
              "2020     5\n",
              "Name: tconst, dtype: int64"
            ]
          },
          "metadata": {
            "tags": []
          },
          "execution_count": 337
        }
      ]
    },
    {
      "cell_type": "code",
      "metadata": {
        "id": "BpgYnuaWwFrQ",
        "colab_type": "code",
        "colab": {
          "base_uri": "https://localhost:8080/",
          "height": 638
        },
        "outputId": "8918853a-6839-4e10-9a92-30ea659de817"
      },
      "source": [
        "by_yearx.plot.bar(figsize=(10,10))"
      ],
      "execution_count": null,
      "outputs": [
        {
          "output_type": "execute_result",
          "data": {
            "text/plain": [
              "<matplotlib.axes._subplots.AxesSubplot at 0x7fa6292cd240>"
            ]
          },
          "metadata": {
            "tags": []
          },
          "execution_count": 339
        },
        {
          "output_type": "display_data",
          "data": {
            "image/png": "[encoded data removed]",
            "text/plain": [
              "<Figure size 720x720 with 1 Axes>"
            ]
          },
          "metadata": {
            "tags": [],
            "needs_background": "light"
          }
        }
      ]
    }
  ]
}